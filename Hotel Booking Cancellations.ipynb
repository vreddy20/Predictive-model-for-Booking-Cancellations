{
 "cells": [
  {
   "cell_type": "markdown",
   "id": "63935424",
   "metadata": {},
   "source": [
    "# Table of Content: <a class=\"anchor\" id=\"table-of-content\"></a>\n",
    "* [1. Problem Background and Motivation](#problem-background)\n",
    "* [2. Libraries and Custom Functions](#import-packages)\n",
    "* [3. Data Exploration/Prep](#data-prep)\n",
    "* [4. Machine Learning Model](#ml-model)\n",
    "* [5. Deployment of Model](#model-deployment)"
   ]
  },
  {
   "cell_type": "markdown",
   "id": "5669aaf8",
   "metadata": {},
   "source": [
    "# 1. Problem Background and Motivation <a class=\"anchor\" id=\"problem-background\"></a>\n",
    "\n",
    "<img src='' width=\"700\" />\n",
    "\n",
    "<img src='https://phionashtours.com/wp-content/uploads/2022/04/hotel-booking.jpg' width=\"900\">\n",
    "\n",
    "> **Problem Background:** The idea is to build a prediction model that can successfully predict booking cancellations to help the large chain of international hotels to respond to booking cancellations.\n",
    "\n",
    "> **Key Stakeholders:** Hotel Management staff, Investors and Stakeholders, Customers\n",
    "\n",
    "> **Motivation:** Insufficient occupancy is causing a major concern for many hotels and resorts. Now a days, hotels market  industry has become so competative that a customer has many options available to make their choices. Therefore, the hotel operators are coming up with initiatives like No deposit bookings, full refund cancellations, one day cancellation policy, etc to stay in the business. These initiatives have inturn raised the booking cancellation rates, causing a decline in hotel's net revenue.  \n",
    "\n",
    "> **Benefits:** Hotel owners and management staff can utilize this model to predict the booking cancellations based on currect demand. This model can help the management minimising their maintenance costs and manage their workforce. This model can also help in setting up a standard to allow overbookings by prediciting the possibilities of cancellation.\n",
    "\n",
    "> **Performance:** Assesment should be based on the higer accuracy of the prediction and the fewer no of false negatives (model suggests no cancellation, but booking cancelled)\n",
    "\n",
    "\n",
    "* [Go to Top](#table-of-content)"
   ]
  },
  {
   "cell_type": "markdown",
   "id": "49f8d038",
   "metadata": {},
   "source": [
    "# 2. Libraries & Custom Functions <a class=\"anchor\" id=\"import-packages\"></a>\n",
    "* [Go to Top](#table-of-content)"
   ]
  },
  {
   "cell_type": "code",
   "execution_count": 52,
   "id": "f1cd1930",
   "metadata": {},
   "outputs": [],
   "source": [
    "import pandas as pd\n",
    "import numpy as np\n",
    "\n",
    "# Graphics\n",
    "import seaborn as sns\n",
    "import matplotlib.pyplot as plt\n",
    "import plotly.graph_objects as go\n",
    "\n",
    "# ML\n",
    "from sklearn import tree\n",
    "from sklearn.tree import plot_tree\n",
    "from sklearn.preprocessing import binarize\n",
    "from sklearn.tree import DecisionTreeClassifier\n",
    "from sklearn.model_selection import train_test_split, cross_val_score, GridSearchCV\n",
    "from sklearn.linear_model import LogisticRegression, LogisticRegressionCV\n",
    "from sklearn.neighbors import KNeighborsClassifier\n",
    "from sklearn.ensemble import RandomForestClassifier\n",
    "from sklearn.metrics import confusion_matrix\n",
    "from sklearn.metrics import plot_confusion_matrix\n",
    "from sklearn.model_selection import cross_validate\n",
    "from sklearn.preprocessing import MinMaxScaler\n",
    "from sklearn.neural_network import MLPClassifier\n",
    "from sklearn import metrics\n",
    "\n",
    "\n",
    "# Notebook specific settings:\n",
    "pd.set_option(\"display.max_columns\", None)\n",
    "pd.options.display.max_rows = 4000\n",
    "%matplotlib inline"
   ]
  },
  {
   "cell_type": "code",
   "execution_count": 53,
   "id": "5aeb84fc",
   "metadata": {},
   "outputs": [],
   "source": [
    "# Custom function below is used to display performance measures\n",
    "def perf_measures(model,X_test,y_test):\n",
    "    # Create empty lists to store metric values created within loop\n",
    "    TP = []\n",
    "    TN = []\n",
    "    FP = []\n",
    "    FN = []\n",
    "    recall = []\n",
    "    precision = []\n",
    "    Accuracy = []\n",
    "    \n",
    "    # Create list of probability threshold values to loop over\n",
    "    threshold = np.arange(0,1.1,0.1).tolist()\n",
    "\n",
    "    for i in threshold:\n",
    "\n",
    "        # Create class assignments given threshold value\n",
    "        y_test_pred_class = (model.predict_proba(X_test)[:,1] >= i).astype(int)\n",
    "\n",
    "        TP.append(metrics.confusion_matrix(y_test, y_test_pred_class)[1,1])\n",
    "        TN.append(metrics.confusion_matrix(y_test, y_test_pred_class)[0,0])\n",
    "        FP.append(metrics.confusion_matrix(y_test, y_test_pred_class)[0,1])\n",
    "        FN.append(metrics.confusion_matrix(y_test, y_test_pred_class)[1,0])\n",
    "        recall.append(metrics.recall_score(y_test, y_test_pred_class).round(3))\n",
    "        precision.append(metrics.precision_score(y_test, y_test_pred_class).round(3))\n",
    "        Accuracy.append(metrics.accuracy_score(y_test, y_test_pred_class).round(2))\n",
    "\n",
    "    result = pd.DataFrame({\"threshold\":threshold,\n",
    "                           \"TP\":TP,\n",
    "                           \"TN\":TN,\n",
    "                           \"FP\":FP,\n",
    "                           \"FN\":FN,\n",
    "                           \"Precision\":precision,\n",
    "                           \"Recall\":recall,\n",
    "                           \"Accuracy\": Accuracy\n",
    "                          })\n",
    "\n",
    "    return result"
   ]
  },
  {
   "cell_type": "markdown",
   "id": "81a8db6e",
   "metadata": {},
   "source": [
    "# 3. Data Exploration <a class=\"anchor\" id=\"data-prep\"></a>\n",
    "* [Go to Top](#table-of-content)"
   ]
  },
  {
   "cell_type": "markdown",
   "id": "660c324d",
   "metadata": {},
   "source": [
    "- [X] [Initial Evaluation](#initial-evaluation)\n",
    "- [X] [Data Cleanup - duplicates, missing values](#missing-values)\n",
    "- [X] [Outlier Detection & Treatment](#outliers)\n",
    "- [X] [Feature Selection](#feature-selection)\n",
    "- [X] [Data Partitioning](#data-split)\n",
    "- [X] [Data Normalization](#normalization)"
   ]
  },
  {
   "cell_type": "markdown",
   "id": "4d4127c1",
   "metadata": {},
   "source": [
    "> **Initial Evaluation** <a class=\"anchor\" id=\"initial-evaluation\"></a><br>\n",
    "> - **Response Variable:** is_canceled (1 if cancelled, 0 otherwise)<br><br>\n",
    "> - **Explanatory Variables:** 'hotel', 'lead_time', 'arrival_date_year', 'arrival_date_month', 'arrival_date_week_number', 'arrival_date_day_of_month', 'stays_in_weekend_nights', 'stays_in_week_nights', 'adults', 'children', 'babies', 'meal',  'country', 'market_segment', 'distribution_channel', 'is_repeated_guest', 'previous_cancellations', 'previous_bookings_not_canceled', 'reserved_room_type', 'assigned_room_type', 'booking_changes', 'deposit_type', 'agent', 'company', 'days_in_waiting_list', 'customer_type', 'adr', 'required_car_parking_spaces', 'total_of_special_requests'. <br><br>\n",
    ">[Go to Data Prep Outline](#data-prep)"
   ]
  },
  {
   "cell_type": "code",
   "execution_count": 54,
   "id": "098d9093",
   "metadata": {},
   "outputs": [
    {
     "data": {
      "text/html": [
       "<div>\n",
       "<style scoped>\n",
       "    .dataframe tbody tr th:only-of-type {\n",
       "        vertical-align: middle;\n",
       "    }\n",
       "\n",
       "    .dataframe tbody tr th {\n",
       "        vertical-align: top;\n",
       "    }\n",
       "\n",
       "    .dataframe thead th {\n",
       "        text-align: right;\n",
       "    }\n",
       "</style>\n",
       "<table border=\"1\" class=\"dataframe\">\n",
       "  <thead>\n",
       "    <tr style=\"text-align: right;\">\n",
       "      <th></th>\n",
       "      <th>hotel</th>\n",
       "      <th>is_canceled</th>\n",
       "      <th>lead_time</th>\n",
       "      <th>arrival_date_year</th>\n",
       "      <th>arrival_date_month</th>\n",
       "      <th>arrival_date_week_number</th>\n",
       "      <th>arrival_date_day_of_month</th>\n",
       "      <th>stays_in_weekend_nights</th>\n",
       "      <th>stays_in_week_nights</th>\n",
       "      <th>adults</th>\n",
       "      <th>children</th>\n",
       "      <th>babies</th>\n",
       "      <th>meal</th>\n",
       "      <th>country</th>\n",
       "      <th>market_segment</th>\n",
       "      <th>distribution_channel</th>\n",
       "      <th>is_repeated_guest</th>\n",
       "      <th>previous_cancellations</th>\n",
       "      <th>previous_bookings_not_canceled</th>\n",
       "      <th>reserved_room_type</th>\n",
       "      <th>assigned_room_type</th>\n",
       "      <th>booking_changes</th>\n",
       "      <th>deposit_type</th>\n",
       "      <th>agent</th>\n",
       "      <th>company</th>\n",
       "      <th>days_in_waiting_list</th>\n",
       "      <th>customer_type</th>\n",
       "      <th>adr</th>\n",
       "      <th>required_car_parking_spaces</th>\n",
       "      <th>total_of_special_requests</th>\n",
       "    </tr>\n",
       "  </thead>\n",
       "  <tbody>\n",
       "    <tr>\n",
       "      <th>0</th>\n",
       "      <td>Resort Hotel</td>\n",
       "      <td>0</td>\n",
       "      <td>342</td>\n",
       "      <td>2015</td>\n",
       "      <td>July</td>\n",
       "      <td>27</td>\n",
       "      <td>1</td>\n",
       "      <td>0</td>\n",
       "      <td>0</td>\n",
       "      <td>2</td>\n",
       "      <td>0.0</td>\n",
       "      <td>0</td>\n",
       "      <td>BB</td>\n",
       "      <td>PRT</td>\n",
       "      <td>Direct</td>\n",
       "      <td>Direct</td>\n",
       "      <td>0</td>\n",
       "      <td>0</td>\n",
       "      <td>0</td>\n",
       "      <td>C</td>\n",
       "      <td>C</td>\n",
       "      <td>3</td>\n",
       "      <td>No Deposit</td>\n",
       "      <td>NaN</td>\n",
       "      <td>NaN</td>\n",
       "      <td>0</td>\n",
       "      <td>Transient</td>\n",
       "      <td>0.0</td>\n",
       "      <td>0</td>\n",
       "      <td>0</td>\n",
       "    </tr>\n",
       "    <tr>\n",
       "      <th>1</th>\n",
       "      <td>Resort Hotel</td>\n",
       "      <td>0</td>\n",
       "      <td>737</td>\n",
       "      <td>2015</td>\n",
       "      <td>July</td>\n",
       "      <td>27</td>\n",
       "      <td>1</td>\n",
       "      <td>0</td>\n",
       "      <td>0</td>\n",
       "      <td>2</td>\n",
       "      <td>0.0</td>\n",
       "      <td>0</td>\n",
       "      <td>BB</td>\n",
       "      <td>PRT</td>\n",
       "      <td>Direct</td>\n",
       "      <td>Direct</td>\n",
       "      <td>0</td>\n",
       "      <td>0</td>\n",
       "      <td>0</td>\n",
       "      <td>C</td>\n",
       "      <td>C</td>\n",
       "      <td>4</td>\n",
       "      <td>No Deposit</td>\n",
       "      <td>NaN</td>\n",
       "      <td>NaN</td>\n",
       "      <td>0</td>\n",
       "      <td>Transient</td>\n",
       "      <td>0.0</td>\n",
       "      <td>0</td>\n",
       "      <td>0</td>\n",
       "    </tr>\n",
       "    <tr>\n",
       "      <th>2</th>\n",
       "      <td>Resort Hotel</td>\n",
       "      <td>0</td>\n",
       "      <td>7</td>\n",
       "      <td>2015</td>\n",
       "      <td>July</td>\n",
       "      <td>27</td>\n",
       "      <td>1</td>\n",
       "      <td>0</td>\n",
       "      <td>1</td>\n",
       "      <td>1</td>\n",
       "      <td>0.0</td>\n",
       "      <td>0</td>\n",
       "      <td>BB</td>\n",
       "      <td>GBR</td>\n",
       "      <td>Direct</td>\n",
       "      <td>Direct</td>\n",
       "      <td>0</td>\n",
       "      <td>0</td>\n",
       "      <td>0</td>\n",
       "      <td>A</td>\n",
       "      <td>C</td>\n",
       "      <td>0</td>\n",
       "      <td>No Deposit</td>\n",
       "      <td>NaN</td>\n",
       "      <td>NaN</td>\n",
       "      <td>0</td>\n",
       "      <td>Transient</td>\n",
       "      <td>75.0</td>\n",
       "      <td>0</td>\n",
       "      <td>0</td>\n",
       "    </tr>\n",
       "    <tr>\n",
       "      <th>3</th>\n",
       "      <td>Resort Hotel</td>\n",
       "      <td>0</td>\n",
       "      <td>13</td>\n",
       "      <td>2015</td>\n",
       "      <td>July</td>\n",
       "      <td>27</td>\n",
       "      <td>1</td>\n",
       "      <td>0</td>\n",
       "      <td>1</td>\n",
       "      <td>1</td>\n",
       "      <td>0.0</td>\n",
       "      <td>0</td>\n",
       "      <td>BB</td>\n",
       "      <td>GBR</td>\n",
       "      <td>Corporate</td>\n",
       "      <td>Corporate</td>\n",
       "      <td>0</td>\n",
       "      <td>0</td>\n",
       "      <td>0</td>\n",
       "      <td>A</td>\n",
       "      <td>A</td>\n",
       "      <td>0</td>\n",
       "      <td>No Deposit</td>\n",
       "      <td>304.0</td>\n",
       "      <td>NaN</td>\n",
       "      <td>0</td>\n",
       "      <td>Transient</td>\n",
       "      <td>75.0</td>\n",
       "      <td>0</td>\n",
       "      <td>0</td>\n",
       "    </tr>\n",
       "    <tr>\n",
       "      <th>4</th>\n",
       "      <td>Resort Hotel</td>\n",
       "      <td>0</td>\n",
       "      <td>14</td>\n",
       "      <td>2015</td>\n",
       "      <td>July</td>\n",
       "      <td>27</td>\n",
       "      <td>1</td>\n",
       "      <td>0</td>\n",
       "      <td>2</td>\n",
       "      <td>2</td>\n",
       "      <td>0.0</td>\n",
       "      <td>0</td>\n",
       "      <td>BB</td>\n",
       "      <td>GBR</td>\n",
       "      <td>Online TA</td>\n",
       "      <td>TA/TO</td>\n",
       "      <td>0</td>\n",
       "      <td>0</td>\n",
       "      <td>0</td>\n",
       "      <td>A</td>\n",
       "      <td>A</td>\n",
       "      <td>0</td>\n",
       "      <td>No Deposit</td>\n",
       "      <td>240.0</td>\n",
       "      <td>NaN</td>\n",
       "      <td>0</td>\n",
       "      <td>Transient</td>\n",
       "      <td>98.0</td>\n",
       "      <td>0</td>\n",
       "      <td>1</td>\n",
       "    </tr>\n",
       "  </tbody>\n",
       "</table>\n",
       "</div>"
      ],
      "text/plain": [
       "          hotel  is_canceled  lead_time  arrival_date_year arrival_date_month  \\\n",
       "0  Resort Hotel            0        342               2015               July   \n",
       "1  Resort Hotel            0        737               2015               July   \n",
       "2  Resort Hotel            0          7               2015               July   \n",
       "3  Resort Hotel            0         13               2015               July   \n",
       "4  Resort Hotel            0         14               2015               July   \n",
       "\n",
       "   arrival_date_week_number  arrival_date_day_of_month  \\\n",
       "0                        27                          1   \n",
       "1                        27                          1   \n",
       "2                        27                          1   \n",
       "3                        27                          1   \n",
       "4                        27                          1   \n",
       "\n",
       "   stays_in_weekend_nights  stays_in_week_nights  adults  children  babies  \\\n",
       "0                        0                     0       2       0.0       0   \n",
       "1                        0                     0       2       0.0       0   \n",
       "2                        0                     1       1       0.0       0   \n",
       "3                        0                     1       1       0.0       0   \n",
       "4                        0                     2       2       0.0       0   \n",
       "\n",
       "  meal country market_segment distribution_channel  is_repeated_guest  \\\n",
       "0   BB     PRT         Direct               Direct                  0   \n",
       "1   BB     PRT         Direct               Direct                  0   \n",
       "2   BB     GBR         Direct               Direct                  0   \n",
       "3   BB     GBR      Corporate            Corporate                  0   \n",
       "4   BB     GBR      Online TA                TA/TO                  0   \n",
       "\n",
       "   previous_cancellations  previous_bookings_not_canceled reserved_room_type  \\\n",
       "0                       0                               0                  C   \n",
       "1                       0                               0                  C   \n",
       "2                       0                               0                  A   \n",
       "3                       0                               0                  A   \n",
       "4                       0                               0                  A   \n",
       "\n",
       "  assigned_room_type  booking_changes deposit_type  agent  company  \\\n",
       "0                  C                3   No Deposit    NaN      NaN   \n",
       "1                  C                4   No Deposit    NaN      NaN   \n",
       "2                  C                0   No Deposit    NaN      NaN   \n",
       "3                  A                0   No Deposit  304.0      NaN   \n",
       "4                  A                0   No Deposit  240.0      NaN   \n",
       "\n",
       "   days_in_waiting_list customer_type   adr  required_car_parking_spaces  \\\n",
       "0                     0     Transient   0.0                            0   \n",
       "1                     0     Transient   0.0                            0   \n",
       "2                     0     Transient  75.0                            0   \n",
       "3                     0     Transient  75.0                            0   \n",
       "4                     0     Transient  98.0                            0   \n",
       "\n",
       "   total_of_special_requests  \n",
       "0                          0  \n",
       "1                          0  \n",
       "2                          0  \n",
       "3                          0  \n",
       "4                          1  "
      ]
     },
     "execution_count": 54,
     "metadata": {},
     "output_type": "execute_result"
    }
   ],
   "source": [
    "df = pd.read_csv('hotel_bookings.csv')\n",
    "df.head()"
   ]
  },
  {
   "cell_type": "code",
   "execution_count": 121,
   "id": "335b13b7",
   "metadata": {},
   "outputs": [
    {
     "name": "stdout",
     "output_type": "stream",
     "text": [
      "<class 'pandas.core.frame.DataFrame'>\n",
      "RangeIndex: 119390 entries, 0 to 119389\n",
      "Data columns (total 30 columns):\n",
      " #   Column                          Non-Null Count   Dtype  \n",
      "---  ------                          --------------   -----  \n",
      " 0   hotel                           119390 non-null  object \n",
      " 1   is_canceled                     119390 non-null  int64  \n",
      " 2   lead_time                       119390 non-null  int64  \n",
      " 3   arrival_date_year               119390 non-null  int64  \n",
      " 4   arrival_date_month              119390 non-null  object \n",
      " 5   arrival_date_week_number        119390 non-null  int64  \n",
      " 6   arrival_date_day_of_month       119390 non-null  int64  \n",
      " 7   stays_in_weekend_nights         119390 non-null  int64  \n",
      " 8   stays_in_week_nights            119390 non-null  int64  \n",
      " 9   adults                          119390 non-null  int64  \n",
      " 10  children                        119386 non-null  float64\n",
      " 11  babies                          119390 non-null  int64  \n",
      " 12  meal                            119390 non-null  object \n",
      " 13  country                         118902 non-null  object \n",
      " 14  market_segment                  119390 non-null  object \n",
      " 15  distribution_channel            119390 non-null  object \n",
      " 16  is_repeated_guest               119390 non-null  int64  \n",
      " 17  previous_cancellations          119390 non-null  int64  \n",
      " 18  previous_bookings_not_canceled  119390 non-null  int64  \n",
      " 19  reserved_room_type              119390 non-null  object \n",
      " 20  assigned_room_type              119390 non-null  object \n",
      " 21  booking_changes                 119390 non-null  int64  \n",
      " 22  deposit_type                    119390 non-null  object \n",
      " 23  agent                           103050 non-null  float64\n",
      " 24  company                         6797 non-null    float64\n",
      " 25  days_in_waiting_list            119390 non-null  int64  \n",
      " 26  customer_type                   119390 non-null  object \n",
      " 27  adr                             119390 non-null  float64\n",
      " 28  required_car_parking_spaces     119390 non-null  int64  \n",
      " 29  total_of_special_requests       119390 non-null  int64  \n",
      "dtypes: float64(4), int64(16), object(10)\n",
      "memory usage: 27.3+ MB\n"
     ]
    }
   ],
   "source": [
    "df.info()"
   ]
  },
  {
   "cell_type": "markdown",
   "id": "fb0fd163",
   "metadata": {},
   "source": [
    ">**Data Type:**<br><br>\n",
    "> **Numerical** - lead_time, stays_in_weekend_nights, stays_in_week_nights, adults, children, babies, previous_cancellations, booking_changes, previous_bookings_not_canceled, days_in_waiting_list, adr, required_car_parking_spaces, total_of_special_requests <br>\n",
    "\n",
    "> **Categorical** - hotel, is_canceled, customer_type, is_repeated_guest, meal, country, market_segment, distribution_channel, reserved_room_type, assigned_room_type, deposit_type, agent, company, reservation_status, arrival_date_year, arrival_date_month, arrival_date_week_number, arrival_date_day_of_month, reservation_status_date <br>\n",
    "\n",
    "> **Note:** There are no misclassified variables. We can proced with next data cleanup steps - handling duplicates and missing values\n"
   ]
  },
  {
   "cell_type": "markdown",
   "id": "105fbc2f",
   "metadata": {},
   "source": [
    "> **Data Cleanup - Eliminating duplicates, Handle missing values** <a class=\"anchor\" id=\"missing-values\"></a><br>"
   ]
  },
  {
   "cell_type": "code",
   "execution_count": 55,
   "id": "c0719992",
   "metadata": {},
   "outputs": [
    {
     "name": "stdout",
     "output_type": "stream",
     "text": [
      "No of records before removing duplicates: 119390\n",
      "No of records after removing duplicates: 87138\n"
     ]
    }
   ],
   "source": [
    "print('No of records before removing duplicates:', len(df))\n",
    "print('No of records after removing duplicates:', len(df.drop_duplicates()))"
   ]
  },
  {
   "cell_type": "code",
   "execution_count": 36,
   "id": "6fac74cd",
   "metadata": {},
   "outputs": [
    {
     "data": {
      "text/plain": [
       "hotel                                  0\n",
       "is_canceled                            0\n",
       "lead_time                              0\n",
       "arrival_date_year                      0\n",
       "arrival_date_month                     0\n",
       "arrival_date_week_number               0\n",
       "arrival_date_day_of_month              0\n",
       "stays_in_weekend_nights                0\n",
       "stays_in_week_nights                   0\n",
       "adults                                 0\n",
       "children                               4\n",
       "babies                                 0\n",
       "meal                                   0\n",
       "country                              488\n",
       "market_segment                         0\n",
       "distribution_channel                   0\n",
       "is_repeated_guest                      0\n",
       "previous_cancellations                 0\n",
       "previous_bookings_not_canceled         0\n",
       "reserved_room_type                     0\n",
       "assigned_room_type                     0\n",
       "booking_changes                        0\n",
       "deposit_type                           0\n",
       "agent                              16340\n",
       "company                           112593\n",
       "days_in_waiting_list                   0\n",
       "customer_type                          0\n",
       "adr                                    0\n",
       "required_car_parking_spaces            0\n",
       "total_of_special_requests              0\n",
       "dtype: int64"
      ]
     },
     "execution_count": 36,
     "metadata": {},
     "output_type": "execute_result"
    }
   ],
   "source": [
    "df.isnull().sum()"
   ]
  },
  {
   "cell_type": "markdown",
   "id": "719cbafd",
   "metadata": {},
   "source": [
    "> **Observational summary on missing values**\n",
    "> - **Children & Country** - Missing values in these columns are comparitively very few and filling these records wouldn't make any significance on the large data set we have. So dropping all the records with missing values in Children & Country <br>\n",
    "> - **Company & Agent** - Dropping both these columns as the missing values in these columns are comparitively very high and filling all these records would be cumbersome and may introduce unwanted bias on the performance of our model.<br>"
   ]
  },
  {
   "cell_type": "code",
   "execution_count": 56,
   "id": "e9ffc60a",
   "metadata": {},
   "outputs": [],
   "source": [
    "#drop records with missing values in country and children column\n",
    "#drop the entire column company and agent \n",
    "df = df[df.country.notnull()]\n",
    "df1 = df[df.children.notnull()]\n",
    "df2 = df1.drop(columns =['company','agent'])"
   ]
  },
  {
   "cell_type": "code",
   "execution_count": 8,
   "id": "6a755456",
   "metadata": {},
   "outputs": [
    {
     "data": {
      "text/plain": [
       "hotel                             0\n",
       "is_canceled                       0\n",
       "lead_time                         0\n",
       "arrival_date_year                 0\n",
       "arrival_date_month                0\n",
       "arrival_date_week_number          0\n",
       "arrival_date_day_of_month         0\n",
       "stays_in_weekend_nights           0\n",
       "stays_in_week_nights              0\n",
       "adults                            0\n",
       "children                          0\n",
       "babies                            0\n",
       "meal                              0\n",
       "country                           0\n",
       "market_segment                    0\n",
       "distribution_channel              0\n",
       "is_repeated_guest                 0\n",
       "previous_cancellations            0\n",
       "previous_bookings_not_canceled    0\n",
       "reserved_room_type                0\n",
       "assigned_room_type                0\n",
       "booking_changes                   0\n",
       "deposit_type                      0\n",
       "days_in_waiting_list              0\n",
       "customer_type                     0\n",
       "adr                               0\n",
       "required_car_parking_spaces       0\n",
       "total_of_special_requests         0\n",
       "dtype: int64"
      ]
     },
     "execution_count": 8,
     "metadata": {},
     "output_type": "execute_result"
    }
   ],
   "source": [
    "#check for any missing values\n",
    "df2.isnull().sum()"
   ]
  },
  {
   "cell_type": "markdown",
   "id": "a70b7274",
   "metadata": {},
   "source": [
    "> **Outlier Detection & Treatment** <a class=\"anchor\" id=\"outliers)\"></a><br>"
   ]
  },
  {
   "cell_type": "code",
   "execution_count": 126,
   "id": "91e78392",
   "metadata": {},
   "outputs": [
    {
     "data": {
      "text/plain": [
       "<AxesSubplot:xlabel='lead_time'>"
      ]
     },
     "execution_count": 126,
     "metadata": {},
     "output_type": "execute_result"
    },
    {
     "data": {
      "image/png": "[encoded data removed]",
      "text/plain": [
       "<Figure size 432x288 with 1 Axes>"
      ]
     },
     "metadata": {
      "needs_background": "light"
     },
     "output_type": "display_data"
    }
   ],
   "source": [
    "#boxplot for 'lead_time' to check for any outliers\n",
    "sns.boxplot(df2['lead_time'])"
   ]
  },
  {
   "cell_type": "markdown",
   "id": "393fd287",
   "metadata": {},
   "source": [
    "> **Observational summary on Outliers**\n",
    "> - It's evident from the boxplot that there are outliers in the 'lead_time' column of the data set. Bookings with 'lead_time' over an year doesn't really make sense to me, as anything can happen in span of an year and plans do change overtime. So, bookings with 'lead_time' > 350 isn't good indicator for our prediction model and hence dropping all the records with lead_time more than 350"
   ]
  },
  {
   "cell_type": "code",
   "execution_count": 57,
   "id": "13f457e9",
   "metadata": {},
   "outputs": [
    {
     "name": "stdout",
     "output_type": "stream",
     "text": [
      "Number of records BEFORE outlier handling: 118898\n",
      "Number of records AFTER outlier handling: 114974\n"
     ]
    }
   ],
   "source": [
    "# Remove outliers based on thresholds described (lead_time < 350)\n",
    "print('Number of records BEFORE outlier handling:', len(df2))\n",
    "df3 = df2[df2['lead_time'] < 350]\n",
    "print('Number of records AFTER outlier handling:', len(df3))"
   ]
  },
  {
   "cell_type": "markdown",
   "id": "029c3f8d",
   "metadata": {},
   "source": [
    "> **Feature Selection** <a class=\"anchor\" id=\"feature-selection)\"></a><br>\n"
   ]
  },
  {
   "cell_type": "markdown",
   "id": "bb42e5b1",
   "metadata": {},
   "source": [
    "> **Correlations to spot the most promising features** \n",
    "> - Step 1: Find the features which are highly correlated with the target variable\n",
    "> - Step 2: Find if any of features identifies in step 1 are highly correlated with each other\n",
    "\n",
    "> **Note to myself:** Decision Trees, Randon Forests and Nueral Nets have automatic feature selection. Therefore, we start training the data using df3 when we bulid these models in this notebook."
   ]
  },
  {
   "cell_type": "code",
   "execution_count": 128,
   "id": "0996c196",
   "metadata": {},
   "outputs": [
    {
     "data": {
      "text/plain": [
       "<AxesSubplot:xlabel='is_canceled'>"
      ]
     },
     "execution_count": 128,
     "metadata": {},
     "output_type": "execute_result"
    },
    {
     "data": {
      "image/png": "[encoded data removed]",
      "text/plain": [
       "<Figure size 720x360 with 1 Axes>"
      ]
     },
     "metadata": {},
     "output_type": "display_data"
    }
   ],
   "source": [
    "#Step 1: Identify correlation with the target variable\n",
    "a = df3.corr()[['is_canceled']].round(2)\n",
    "sns.set(rc= {'figure.figsize':(10,5)})\n",
    "sns.barplot(x=a.is_canceled[0:],y=a.index[0:],data=a, orient='h')"
   ]
  },
  {
   "cell_type": "markdown",
   "id": "0cba6bc4",
   "metadata": {},
   "source": [
    "> **Interpreting Correlation barplot:** <br>\n",
    "> Below features most correlated with target variable:\n",
    "> - Lead Time(+): \n",
    "> - adults(+): \n",
    "> - Previous Cancellation(+)\n",
    "> - Days in waiting list(+)\n",
    "> - adr(+)\n",
    "> - required car parking(-)\n",
    "> - total_of_special_request(-)\n",
    "> - booking_changes(-): More changes \n",
    "> - agent(-)\n",
    "> - is repeated guest(-): Repeated guests are less likely to cancel bookings in a particular hotel.\n",
    "> - previous bookings_not cancelled(-)<br>\n",
    " **Decision:** Drop all the features which are not correlated or least correlated with the target variable.<br>\n",
    "\n",
    ">Let's proceed to Step 2 and see if any of these features are highly correlated with each other"
   ]
  },
  {
   "cell_type": "code",
   "execution_count": 129,
   "id": "e3935ba3",
   "metadata": {},
   "outputs": [
    {
     "data": {
      "text/html": [
       "<div>\n",
       "<style scoped>\n",
       "    .dataframe tbody tr th:only-of-type {\n",
       "        vertical-align: middle;\n",
       "    }\n",
       "\n",
       "    .dataframe tbody tr th {\n",
       "        vertical-align: top;\n",
       "    }\n",
       "\n",
       "    .dataframe thead th {\n",
       "        text-align: right;\n",
       "    }\n",
       "</style>\n",
       "<table border=\"1\" class=\"dataframe\">\n",
       "  <thead>\n",
       "    <tr style=\"text-align: right;\">\n",
       "      <th></th>\n",
       "      <th>lead_time</th>\n",
       "      <th>adults</th>\n",
       "      <th>previous_cancellations</th>\n",
       "      <th>days_in_waiting_list</th>\n",
       "      <th>adr</th>\n",
       "      <th>required_car_parking_spaces</th>\n",
       "      <th>total_of_special_requests</th>\n",
       "      <th>booking_changes</th>\n",
       "      <th>is_repeated_guest</th>\n",
       "      <th>previous_bookings_not_canceled</th>\n",
       "    </tr>\n",
       "  </thead>\n",
       "  <tbody>\n",
       "    <tr>\n",
       "      <th>lead_time</th>\n",
       "      <td>1.00</td>\n",
       "      <td>0.13</td>\n",
       "      <td>0.10</td>\n",
       "      <td>0.18</td>\n",
       "      <td>-0.02</td>\n",
       "      <td>-0.11</td>\n",
       "      <td>-0.06</td>\n",
       "      <td>0.01</td>\n",
       "      <td>-0.13</td>\n",
       "      <td>-0.08</td>\n",
       "    </tr>\n",
       "    <tr>\n",
       "      <th>adults</th>\n",
       "      <td>0.13</td>\n",
       "      <td>1.00</td>\n",
       "      <td>-0.01</td>\n",
       "      <td>-0.02</td>\n",
       "      <td>0.24</td>\n",
       "      <td>0.02</td>\n",
       "      <td>0.13</td>\n",
       "      <td>-0.05</td>\n",
       "      <td>-0.15</td>\n",
       "      <td>-0.11</td>\n",
       "    </tr>\n",
       "    <tr>\n",
       "      <th>previous_cancellations</th>\n",
       "      <td>0.10</td>\n",
       "      <td>-0.01</td>\n",
       "      <td>1.00</td>\n",
       "      <td>0.01</td>\n",
       "      <td>-0.06</td>\n",
       "      <td>-0.02</td>\n",
       "      <td>-0.05</td>\n",
       "      <td>-0.03</td>\n",
       "      <td>0.08</td>\n",
       "      <td>0.15</td>\n",
       "    </tr>\n",
       "    <tr>\n",
       "      <th>days_in_waiting_list</th>\n",
       "      <td>0.18</td>\n",
       "      <td>-0.02</td>\n",
       "      <td>0.01</td>\n",
       "      <td>1.00</td>\n",
       "      <td>-0.04</td>\n",
       "      <td>-0.03</td>\n",
       "      <td>-0.09</td>\n",
       "      <td>-0.01</td>\n",
       "      <td>-0.02</td>\n",
       "      <td>-0.01</td>\n",
       "    </tr>\n",
       "    <tr>\n",
       "      <th>adr</th>\n",
       "      <td>-0.02</td>\n",
       "      <td>0.24</td>\n",
       "      <td>-0.06</td>\n",
       "      <td>-0.04</td>\n",
       "      <td>1.00</td>\n",
       "      <td>0.06</td>\n",
       "      <td>0.16</td>\n",
       "      <td>0.02</td>\n",
       "      <td>-0.14</td>\n",
       "      <td>-0.07</td>\n",
       "    </tr>\n",
       "    <tr>\n",
       "      <th>required_car_parking_spaces</th>\n",
       "      <td>-0.11</td>\n",
       "      <td>0.02</td>\n",
       "      <td>-0.02</td>\n",
       "      <td>-0.03</td>\n",
       "      <td>0.06</td>\n",
       "      <td>1.00</td>\n",
       "      <td>0.08</td>\n",
       "      <td>0.06</td>\n",
       "      <td>0.08</td>\n",
       "      <td>0.05</td>\n",
       "    </tr>\n",
       "    <tr>\n",
       "      <th>total_of_special_requests</th>\n",
       "      <td>-0.06</td>\n",
       "      <td>0.13</td>\n",
       "      <td>-0.05</td>\n",
       "      <td>-0.09</td>\n",
       "      <td>0.16</td>\n",
       "      <td>0.08</td>\n",
       "      <td>1.00</td>\n",
       "      <td>0.05</td>\n",
       "      <td>0.01</td>\n",
       "      <td>0.04</td>\n",
       "    </tr>\n",
       "    <tr>\n",
       "      <th>booking_changes</th>\n",
       "      <td>0.01</td>\n",
       "      <td>-0.05</td>\n",
       "      <td>-0.03</td>\n",
       "      <td>-0.01</td>\n",
       "      <td>0.02</td>\n",
       "      <td>0.06</td>\n",
       "      <td>0.05</td>\n",
       "      <td>1.00</td>\n",
       "      <td>0.01</td>\n",
       "      <td>0.01</td>\n",
       "    </tr>\n",
       "    <tr>\n",
       "      <th>is_repeated_guest</th>\n",
       "      <td>-0.13</td>\n",
       "      <td>-0.15</td>\n",
       "      <td>0.08</td>\n",
       "      <td>-0.02</td>\n",
       "      <td>-0.14</td>\n",
       "      <td>0.08</td>\n",
       "      <td>0.01</td>\n",
       "      <td>0.01</td>\n",
       "      <td>1.00</td>\n",
       "      <td>0.42</td>\n",
       "    </tr>\n",
       "    <tr>\n",
       "      <th>previous_bookings_not_canceled</th>\n",
       "      <td>-0.08</td>\n",
       "      <td>-0.11</td>\n",
       "      <td>0.15</td>\n",
       "      <td>-0.01</td>\n",
       "      <td>-0.07</td>\n",
       "      <td>0.05</td>\n",
       "      <td>0.04</td>\n",
       "      <td>0.01</td>\n",
       "      <td>0.42</td>\n",
       "      <td>1.00</td>\n",
       "    </tr>\n",
       "  </tbody>\n",
       "</table>\n",
       "</div>"
      ],
      "text/plain": [
       "                                lead_time  adults  previous_cancellations  \\\n",
       "lead_time                            1.00    0.13                    0.10   \n",
       "adults                               0.13    1.00                   -0.01   \n",
       "previous_cancellations               0.10   -0.01                    1.00   \n",
       "days_in_waiting_list                 0.18   -0.02                    0.01   \n",
       "adr                                 -0.02    0.24                   -0.06   \n",
       "required_car_parking_spaces         -0.11    0.02                   -0.02   \n",
       "total_of_special_requests           -0.06    0.13                   -0.05   \n",
       "booking_changes                      0.01   -0.05                   -0.03   \n",
       "is_repeated_guest                   -0.13   -0.15                    0.08   \n",
       "previous_bookings_not_canceled      -0.08   -0.11                    0.15   \n",
       "\n",
       "                                days_in_waiting_list   adr  \\\n",
       "lead_time                                       0.18 -0.02   \n",
       "adults                                         -0.02  0.24   \n",
       "previous_cancellations                          0.01 -0.06   \n",
       "days_in_waiting_list                            1.00 -0.04   \n",
       "adr                                            -0.04  1.00   \n",
       "required_car_parking_spaces                    -0.03  0.06   \n",
       "total_of_special_requests                      -0.09  0.16   \n",
       "booking_changes                                -0.01  0.02   \n",
       "is_repeated_guest                              -0.02 -0.14   \n",
       "previous_bookings_not_canceled                 -0.01 -0.07   \n",
       "\n",
       "                                required_car_parking_spaces  \\\n",
       "lead_time                                             -0.11   \n",
       "adults                                                 0.02   \n",
       "previous_cancellations                                -0.02   \n",
       "days_in_waiting_list                                  -0.03   \n",
       "adr                                                    0.06   \n",
       "required_car_parking_spaces                            1.00   \n",
       "total_of_special_requests                              0.08   \n",
       "booking_changes                                        0.06   \n",
       "is_repeated_guest                                      0.08   \n",
       "previous_bookings_not_canceled                         0.05   \n",
       "\n",
       "                                total_of_special_requests  booking_changes  \\\n",
       "lead_time                                           -0.06             0.01   \n",
       "adults                                               0.13            -0.05   \n",
       "previous_cancellations                              -0.05            -0.03   \n",
       "days_in_waiting_list                                -0.09            -0.01   \n",
       "adr                                                  0.16             0.02   \n",
       "required_car_parking_spaces                          0.08             0.06   \n",
       "total_of_special_requests                            1.00             0.05   \n",
       "booking_changes                                      0.05             1.00   \n",
       "is_repeated_guest                                    0.01             0.01   \n",
       "previous_bookings_not_canceled                       0.04             0.01   \n",
       "\n",
       "                                is_repeated_guest  \\\n",
       "lead_time                                   -0.13   \n",
       "adults                                      -0.15   \n",
       "previous_cancellations                       0.08   \n",
       "days_in_waiting_list                        -0.02   \n",
       "adr                                         -0.14   \n",
       "required_car_parking_spaces                  0.08   \n",
       "total_of_special_requests                    0.01   \n",
       "booking_changes                              0.01   \n",
       "is_repeated_guest                            1.00   \n",
       "previous_bookings_not_canceled               0.42   \n",
       "\n",
       "                                previous_bookings_not_canceled  \n",
       "lead_time                                                -0.08  \n",
       "adults                                                   -0.11  \n",
       "previous_cancellations                                    0.15  \n",
       "days_in_waiting_list                                     -0.01  \n",
       "adr                                                      -0.07  \n",
       "required_car_parking_spaces                               0.05  \n",
       "total_of_special_requests                                 0.04  \n",
       "booking_changes                                           0.01  \n",
       "is_repeated_guest                                         0.42  \n",
       "previous_bookings_not_canceled                            1.00  "
      ]
     },
     "execution_count": 129,
     "metadata": {},
     "output_type": "execute_result"
    }
   ],
   "source": [
    "#Step 2: Finding highly correlated features with each other from Step 1\n",
    "df3[['lead_time','adults','previous_cancellations','days_in_waiting_list','adr','required_car_parking_spaces','total_of_special_requests','booking_changes','is_repeated_guest','previous_bookings_not_canceled']].corr().round(2)"
   ]
  },
  {
   "cell_type": "markdown",
   "id": "89f50275",
   "metadata": {},
   "source": [
    "> **Observations from Step 2:**<br>\n",
    "> Below are highly correlated features with each other from Step 1\n",
    "> - 'previous_bookings_not_canceled'  and  'is_repeated_guest'\n",
    "> - 'adr' and 'adult'<br>\n",
    " **Decision:** Keep 'is_repeated_guest' and dropping 'previous_bookings_not_canceled' as the later is comparitevely more correlated with target variable.<br>\n"
   ]
  },
  {
   "cell_type": "code",
   "execution_count": 130,
   "id": "ac56c44b",
   "metadata": {},
   "outputs": [],
   "source": [
    "#drop all the features as decided in Step 1 and Step 2 above\n",
    "df4 = df3.drop(['arrival_date_year','arrival_date_week_number',\n",
    "       'arrival_date_day_of_month', 'stays_in_weekend_nights',\n",
    "       'stays_in_week_nights','children', 'babies','previous_bookings_not_canceled','adr'\n",
    "             ], axis=1)"
   ]
  },
  {
   "cell_type": "markdown",
   "id": "2df5fd46",
   "metadata": {},
   "source": [
    ">**Let's go back to assessing the Categorical Variables:**<br>\n",
    "\n",
    ">**Variables that seem to matter**--<br>\n",
    "> 1. **hotel:**  Type of hotel and its reviews might influence the booking cancellations <br>\n",
    "> 2. **arrival_date_month:**  Booking cancellation could be more in offseasonal months <br>\n",
    "> 3. **distribution_channel:**  Bookings through corporate and travel agents/operators are more likely to cancel.<br>\n",
    "> 4. **deposit_type:**  Bookings with deposit_type 'Refundable' and 'No Deposit' might have a high percentage of cancellations<br>\n",
    "> 5. **customer_type:** Customers with bookings not associated to other transient booking or not part of a group are more likely to cancel\n",
    "<br>\n",
    "\n",
    ">**Variables that doesn't seem to matter**--<br>\n",
    "> 1. **meal:** Customer has an idea of the meal before. Once the booking is done, it doesn't seem to matter much.<br>\n",
    "> 2. **market_segment:**<br>\n",
    "> 3. **reserved_room_type:** Customers might not have a visual on the ambience of the room they reserved and they'll get to know the difference in reserved room and assigned room only at the time of check-in. Cancelling the booking at the time of check-in is not very usual.<br>\n",
    "> 4. **assigned_room_type:** Same reason as 'reserved_room_type'"
   ]
  },
  {
   "cell_type": "code",
   "execution_count": 131,
   "id": "f3307438",
   "metadata": {},
   "outputs": [
    {
     "name": "stdout",
     "output_type": "stream",
     "text": [
      "<class 'pandas.core.frame.DataFrame'>\n",
      "Int64Index: 114974 entries, 0 to 119389\n",
      "Data columns (total 15 columns):\n",
      " #   Column                       Non-Null Count   Dtype \n",
      "---  ------                       --------------   ----- \n",
      " 0   hotel                        114974 non-null  object\n",
      " 1   is_canceled                  114974 non-null  int64 \n",
      " 2   lead_time                    114974 non-null  int64 \n",
      " 3   arrival_date_month           114974 non-null  object\n",
      " 4   adults                       114974 non-null  int64 \n",
      " 5   country                      114974 non-null  object\n",
      " 6   distribution_channel         114974 non-null  object\n",
      " 7   is_repeated_guest            114974 non-null  int64 \n",
      " 8   previous_cancellations       114974 non-null  int64 \n",
      " 9   booking_changes              114974 non-null  int64 \n",
      " 10  deposit_type                 114974 non-null  object\n",
      " 11  days_in_waiting_list         114974 non-null  int64 \n",
      " 12  customer_type                114974 non-null  object\n",
      " 13  required_car_parking_spaces  114974 non-null  int64 \n",
      " 14  total_of_special_requests    114974 non-null  int64 \n",
      "dtypes: int64(9), object(6)\n",
      "memory usage: 14.0+ MB\n"
     ]
    }
   ],
   "source": [
    "#drop the Categorical Variables that doesn't seem to matter\n",
    "df5 = df4.drop(['meal','market_segment','reserved_room_type','assigned_room_type'], axis=1)\n",
    "df5.info()"
   ]
  },
  {
   "cell_type": "markdown",
   "id": "ae3e10b6",
   "metadata": {},
   "source": [
    "> **Observations after dropping the unnecessary features**\n",
    "> - Below are the final set of features variables selected manually for builing a model(Logistic and KNN)- Remember, Decision trees, Random Forest and NueralNets make the feature selection automatically <br>\n",
    ">> 'hotel', 'lead_time', 'arrival_date_month', 'adults', 'country', 'distribution_channel', 'is_repeated_guest', 'previous_cancellations', 'booking_changes', 'deposit_type', 'days_in_waiting_list', 'customer_type', 'required_car_parking_spaces', 'total_of_special_requests'.\n",
    "> - Encode the below feature variables to categorical variables before applying the model <br>\n",
    ">>  'hotel', 'arrival_date_month', 'country', 'distribution_channel', 'deposit_type', 'customer_type'."
   ]
  },
  {
   "cell_type": "code",
   "execution_count": 132,
   "id": "7c497fc4",
   "metadata": {},
   "outputs": [],
   "source": [
    "# Keep top 5 Makes and label all the rest as \"OTHER\"\n",
    "keep = df5['country'].value_counts().index[:5]\n",
    "df5['country'] = np.where(df5['country'].isin(keep), df5['country'], 'Others')"
   ]
  },
  {
   "cell_type": "code",
   "execution_count": 133,
   "id": "82db8206",
   "metadata": {},
   "outputs": [],
   "source": [
    "# Encode the above feature variables and convert to dummies\n",
    "cat_vars = ['hotel','arrival_date_month','country',\n",
    "            'distribution_channel','deposit_type','customer_type'\n",
    "           ]\n",
    "# Loop over categorical vars and encode each one\n",
    "for var in cat_vars:\n",
    "    df5[var] = df5[var].astype(\"category\")\n",
    "\n",
    "df5 = pd.get_dummies(df5,columns=cat_vars, prefix_sep='_', drop_first=True)"
   ]
  },
  {
   "cell_type": "markdown",
   "id": "203aefe6",
   "metadata": {},
   "source": [
    "> **Data Partitioning** <a class=\"anchor\" id=\"data-split\"></a><br>"
   ]
  },
  {
   "cell_type": "code",
   "execution_count": 134,
   "id": "8dfea4ac",
   "metadata": {},
   "outputs": [],
   "source": [
    "target = ['is_canceled']\n",
    "\n",
    "X = df5.drop(target,axis=1)\n",
    "y = df5[target]\n",
    "\n",
    "# Split data\n",
    "X_train_mm,X_test_mm,y_train,y_test = train_test_split(X,y, test_size=0.3,random_state=4)"
   ]
  },
  {
   "cell_type": "markdown",
   "id": "e0542e41",
   "metadata": {},
   "source": [
    "> **Data Normalization** <a class=\"anchor\" id=\"normalization\"></a><br> \n"
   ]
  },
  {
   "cell_type": "code",
   "execution_count": 135,
   "id": "3d14e94f",
   "metadata": {},
   "outputs": [],
   "source": [
    "mm_scaler = MinMaxScaler()\n",
    "mm_scaler.fit(X_train_mm)\n",
    "X_train = mm_scaler.transform(X_train_mm)\n",
    "X_test = mm_scaler.transform(X_test_mm)"
   ]
  },
  {
   "cell_type": "markdown",
   "id": "6034a6ae",
   "metadata": {},
   "source": [
    ">**Baseline or 'naive' benchmark:**<br>\n",
    "> - Compute a baseline using an understanding of the proportion of records in the original data that are assigned to each class"
   ]
  },
  {
   "cell_type": "code",
   "execution_count": 136,
   "id": "7565d7c4",
   "metadata": {},
   "outputs": [
    {
     "name": "stdout",
     "output_type": "stream",
     "text": [
      "Count of booking cancellation and non cancellation:\n",
      "is_canceled\n",
      "0              51415\n",
      "1              29066\n",
      "dtype: int64\n",
      "\n",
      "\n",
      "36.12 percent of the bookings were cancelled\n",
      "63.88 percent of the bookings were not cancelled\n"
     ]
    }
   ],
   "source": [
    "print('Count of booking cancellation and non cancellation:')\n",
    "print(y_train.value_counts())\n",
    "print('\\n')\n",
    "print('%.2f percent of the bookings were cancelled' %(y_train.mean()*100))\n",
    "print('%.2f percent of the bookings were not cancelled' %(100-(y_train.mean()*100)))"
   ]
  },
  {
   "cell_type": "markdown",
   "id": "73c8c580",
   "metadata": {},
   "source": [
    "> **Interpretation of Baseline model:**\n",
    "> - We go right 64% of time, when we assign every test record to the most prevalent class (booking not cancelled in this case). "
   ]
  },
  {
   "cell_type": "markdown",
   "id": "eec07d45",
   "metadata": {},
   "source": [
    "# 4. Machine Learning <a class=\"anchor\" id=\"ml-model\"></a>\n",
    "\n",
    "- [X] [kNN](#first-model)\n",
    "- [X] [Logistic Model](#second-model)\n",
    "- [X] [Decision Tree Classifier](#third-model)\n",
    "- [X] [Random Forest Classifier](#fourth-model)\n",
    "- [X] [MLP Classifier](#fifth-model)\n",
    "\n",
    "\n",
    "\n",
    "* [Go to Top](#table-of-content)"
   ]
  },
  {
   "cell_type": "markdown",
   "id": "c0a8c7af",
   "metadata": {},
   "source": [
    "<br>**KNN classification Model**<br><br> <a class=\"anchor\" id=\"first-model\"></a>"
   ]
  },
  {
   "cell_type": "code",
   "execution_count": 137,
   "id": "01a91e02",
   "metadata": {},
   "outputs": [
    {
     "data": {
      "text/html": [
       "<div>\n",
       "<style scoped>\n",
       "    .dataframe tbody tr th:only-of-type {\n",
       "        vertical-align: middle;\n",
       "    }\n",
       "\n",
       "    .dataframe tbody tr th {\n",
       "        vertical-align: top;\n",
       "    }\n",
       "\n",
       "    .dataframe thead th {\n",
       "        text-align: right;\n",
       "    }\n",
       "</style>\n",
       "<table border=\"1\" class=\"dataframe\">\n",
       "  <thead>\n",
       "    <tr style=\"text-align: right;\">\n",
       "      <th></th>\n",
       "      <th>k</th>\n",
       "      <th>accuracy</th>\n",
       "    </tr>\n",
       "  </thead>\n",
       "  <tbody>\n",
       "    <tr>\n",
       "      <th>0</th>\n",
       "      <td>1</td>\n",
       "      <td>0.804105</td>\n",
       "    </tr>\n",
       "    <tr>\n",
       "      <th>1</th>\n",
       "      <td>3</td>\n",
       "      <td>0.813759</td>\n",
       "    </tr>\n",
       "    <tr>\n",
       "      <th>2</th>\n",
       "      <td>5</td>\n",
       "      <td>0.816195</td>\n",
       "    </tr>\n",
       "    <tr>\n",
       "      <th>3</th>\n",
       "      <td>7</td>\n",
       "      <td>0.815586</td>\n",
       "    </tr>\n",
       "    <tr>\n",
       "      <th>4</th>\n",
       "      <td>9</td>\n",
       "      <td>0.815267</td>\n",
       "    </tr>\n",
       "    <tr>\n",
       "      <th>5</th>\n",
       "      <td>11</td>\n",
       "      <td>0.816398</td>\n",
       "    </tr>\n",
       "    <tr>\n",
       "      <th>6</th>\n",
       "      <td>13</td>\n",
       "      <td>0.814716</td>\n",
       "    </tr>\n",
       "    <tr>\n",
       "      <th>7</th>\n",
       "      <td>15</td>\n",
       "      <td>0.815963</td>\n",
       "    </tr>\n",
       "    <tr>\n",
       "      <th>8</th>\n",
       "      <td>17</td>\n",
       "      <td>0.814455</td>\n",
       "    </tr>\n",
       "    <tr>\n",
       "      <th>9</th>\n",
       "      <td>19</td>\n",
       "      <td>0.812484</td>\n",
       "    </tr>\n",
       "    <tr>\n",
       "      <th>10</th>\n",
       "      <td>21</td>\n",
       "      <td>0.812484</td>\n",
       "    </tr>\n",
       "    <tr>\n",
       "      <th>11</th>\n",
       "      <td>23</td>\n",
       "      <td>0.811237</td>\n",
       "    </tr>\n",
       "  </tbody>\n",
       "</table>\n",
       "</div>"
      ],
      "text/plain": [
       "     k  accuracy\n",
       "0    1  0.804105\n",
       "1    3  0.813759\n",
       "2    5  0.816195\n",
       "3    7  0.815586\n",
       "4    9  0.815267\n",
       "5   11  0.816398\n",
       "6   13  0.814716\n",
       "7   15  0.815963\n",
       "8   17  0.814455\n",
       "9   19  0.812484\n",
       "10  21  0.812484\n",
       "11  23  0.811237"
      ]
     },
     "execution_count": 137,
     "metadata": {},
     "output_type": "execute_result"
    }
   ],
   "source": [
    "# train a classifier for different values of k\n",
    "results = []\n",
    "\n",
    "for k in range (1,25):\n",
    "  if k % 2 != 0:\n",
    "    knn_model = KNeighborsClassifier(n_neighbors=k)\n",
    "    knn_model.fit(X_train,y_train.values.ravel())\n",
    "    \n",
    "    # Get predicted class\n",
    "    y_pred_class = knn_model.predict(X_test)\n",
    "    \n",
    "    # Put Accuracy Score in results object\n",
    "    results.append({'k':k,\n",
    "                    'accuracy':metrics.accuracy_score(y_test,y_pred_class\n",
    "                    )\n",
    "                   }\n",
    "                  )\n",
    "\n",
    "pd.DataFrame(results)"
   ]
  },
  {
   "cell_type": "markdown",
   "id": "0a7b0d75",
   "metadata": {},
   "source": [
    "> **Choosing the appropriate K value in KNN classification** <br>\n",
    ">1. Let's choose the K value based on the accuracy of the model. Low K value tends to overfit and high K value tends to underfit. So K value should neither be too high nor too low. For this reason we are not choosing K value as 7, even though the accuracy is more.\n",
    ">3. For any value of K <= 19, accuarcy remains almost constant at 81% and then starts decreasing as K increases. Therefore, we choose the K value as 19 for our KNN model."
   ]
  },
  {
   "cell_type": "code",
   "execution_count": 138,
   "id": "9050234b",
   "metadata": {},
   "outputs": [
    {
     "data": {
      "text/plain": [
       "KNeighborsClassifier(n_neighbors=19)"
      ]
     },
     "execution_count": 138,
     "metadata": {},
     "output_type": "execute_result"
    }
   ],
   "source": [
    "#Re-Run the KNN classification model with K = 19\n",
    "\n",
    "knn_model = KNeighborsClassifier(n_neighbors=19)\n",
    "knn_model.fit(X_train,y_train.values.ravel())"
   ]
  },
  {
   "cell_type": "code",
   "execution_count": 139,
   "id": "183327bb",
   "metadata": {},
   "outputs": [
    {
     "name": "stdout",
     "output_type": "stream",
     "text": [
      "Train Accuracy: 0.831\n",
      "Test Accuracy: 0.812\n"
     ]
    }
   ],
   "source": [
    "y_train_pred_class= knn_model.predict(X_train)\n",
    "y_test_pred_class = knn_model.predict(X_test)\n",
    "\n",
    "print('Train Accuracy:', metrics.accuracy_score(y_train, y_train_pred_class).round(3))\n",
    "print('Test Accuracy:', metrics.accuracy_score(y_test, y_test_pred_class).round(3))"
   ]
  },
  {
   "cell_type": "code",
   "execution_count": 140,
   "id": "82517daa",
   "metadata": {},
   "outputs": [
    {
     "name": "stdout",
     "output_type": "stream",
     "text": [
      "Average cross validation score: 0.809\n"
     ]
    }
   ],
   "source": [
    "#Cross Validation with KFold = 5\n",
    "scores = cross_val_score(knn_model, X_train, y_train.values.ravel(), cv=5)\n",
    "print(\"Average cross validation score: {:.3f}\".format(scores.mean()))"
   ]
  },
  {
   "cell_type": "markdown",
   "id": "ac50c3e8",
   "metadata": {},
   "source": [
    "> **Observations on KNN model:** Train accuracy, Test accuracy and cross validation scores are pretty close. So, no major chance of overfitting."
   ]
  },
  {
   "cell_type": "code",
   "execution_count": 141,
   "id": "2e8fb7ab",
   "metadata": {},
   "outputs": [
    {
     "data": {
      "text/html": [
       "<div>\n",
       "<style scoped>\n",
       "    .dataframe tbody tr th:only-of-type {\n",
       "        vertical-align: middle;\n",
       "    }\n",
       "\n",
       "    .dataframe tbody tr th {\n",
       "        vertical-align: top;\n",
       "    }\n",
       "\n",
       "    .dataframe thead th {\n",
       "        text-align: right;\n",
       "    }\n",
       "</style>\n",
       "<table border=\"1\" class=\"dataframe\">\n",
       "  <thead>\n",
       "    <tr style=\"text-align: right;\">\n",
       "      <th></th>\n",
       "      <th>threshold</th>\n",
       "      <th>TP</th>\n",
       "      <th>TN</th>\n",
       "      <th>FP</th>\n",
       "      <th>FN</th>\n",
       "      <th>Precision</th>\n",
       "      <th>Recall</th>\n",
       "      <th>Accuracy</th>\n",
       "    </tr>\n",
       "  </thead>\n",
       "  <tbody>\n",
       "    <tr>\n",
       "      <th>0</th>\n",
       "      <td>0.0</td>\n",
       "      <td>12379</td>\n",
       "      <td>0</td>\n",
       "      <td>22114</td>\n",
       "      <td>0</td>\n",
       "      <td>0.359</td>\n",
       "      <td>1.000</td>\n",
       "      <td>0.36</td>\n",
       "    </tr>\n",
       "    <tr>\n",
       "      <th>1</th>\n",
       "      <td>0.1</td>\n",
       "      <td>12049</td>\n",
       "      <td>8118</td>\n",
       "      <td>13996</td>\n",
       "      <td>330</td>\n",
       "      <td>0.463</td>\n",
       "      <td>0.973</td>\n",
       "      <td>0.58</td>\n",
       "    </tr>\n",
       "    <tr>\n",
       "      <th>2</th>\n",
       "      <td>0.2</td>\n",
       "      <td>11275</td>\n",
       "      <td>12823</td>\n",
       "      <td>9291</td>\n",
       "      <td>1104</td>\n",
       "      <td>0.548</td>\n",
       "      <td>0.911</td>\n",
       "      <td>0.70</td>\n",
       "    </tr>\n",
       "    <tr>\n",
       "      <th>3</th>\n",
       "      <td>0.3</td>\n",
       "      <td>10322</td>\n",
       "      <td>16150</td>\n",
       "      <td>5964</td>\n",
       "      <td>2057</td>\n",
       "      <td>0.634</td>\n",
       "      <td>0.834</td>\n",
       "      <td>0.77</td>\n",
       "    </tr>\n",
       "    <tr>\n",
       "      <th>4</th>\n",
       "      <td>0.4</td>\n",
       "      <td>9349</td>\n",
       "      <td>18324</td>\n",
       "      <td>3790</td>\n",
       "      <td>3030</td>\n",
       "      <td>0.712</td>\n",
       "      <td>0.755</td>\n",
       "      <td>0.80</td>\n",
       "    </tr>\n",
       "    <tr>\n",
       "      <th>5</th>\n",
       "      <td>0.5</td>\n",
       "      <td>8324</td>\n",
       "      <td>19701</td>\n",
       "      <td>2413</td>\n",
       "      <td>4055</td>\n",
       "      <td>0.775</td>\n",
       "      <td>0.672</td>\n",
       "      <td>0.81</td>\n",
       "    </tr>\n",
       "    <tr>\n",
       "      <th>6</th>\n",
       "      <td>0.6</td>\n",
       "      <td>7156</td>\n",
       "      <td>20823</td>\n",
       "      <td>1291</td>\n",
       "      <td>5223</td>\n",
       "      <td>0.847</td>\n",
       "      <td>0.578</td>\n",
       "      <td>0.81</td>\n",
       "    </tr>\n",
       "    <tr>\n",
       "      <th>7</th>\n",
       "      <td>0.7</td>\n",
       "      <td>5992</td>\n",
       "      <td>21525</td>\n",
       "      <td>589</td>\n",
       "      <td>6387</td>\n",
       "      <td>0.910</td>\n",
       "      <td>0.484</td>\n",
       "      <td>0.80</td>\n",
       "    </tr>\n",
       "    <tr>\n",
       "      <th>8</th>\n",
       "      <td>0.8</td>\n",
       "      <td>5146</td>\n",
       "      <td>21901</td>\n",
       "      <td>213</td>\n",
       "      <td>7233</td>\n",
       "      <td>0.960</td>\n",
       "      <td>0.416</td>\n",
       "      <td>0.78</td>\n",
       "    </tr>\n",
       "    <tr>\n",
       "      <th>9</th>\n",
       "      <td>0.9</td>\n",
       "      <td>4381</td>\n",
       "      <td>22070</td>\n",
       "      <td>44</td>\n",
       "      <td>7998</td>\n",
       "      <td>0.990</td>\n",
       "      <td>0.354</td>\n",
       "      <td>0.77</td>\n",
       "    </tr>\n",
       "    <tr>\n",
       "      <th>10</th>\n",
       "      <td>1.0</td>\n",
       "      <td>4110</td>\n",
       "      <td>22100</td>\n",
       "      <td>14</td>\n",
       "      <td>8269</td>\n",
       "      <td>0.997</td>\n",
       "      <td>0.332</td>\n",
       "      <td>0.76</td>\n",
       "    </tr>\n",
       "  </tbody>\n",
       "</table>\n",
       "</div>"
      ],
      "text/plain": [
       "    threshold     TP     TN     FP    FN  Precision  Recall  Accuracy\n",
       "0         0.0  12379      0  22114     0      0.359   1.000      0.36\n",
       "1         0.1  12049   8118  13996   330      0.463   0.973      0.58\n",
       "2         0.2  11275  12823   9291  1104      0.548   0.911      0.70\n",
       "3         0.3  10322  16150   5964  2057      0.634   0.834      0.77\n",
       "4         0.4   9349  18324   3790  3030      0.712   0.755      0.80\n",
       "5         0.5   8324  19701   2413  4055      0.775   0.672      0.81\n",
       "6         0.6   7156  20823   1291  5223      0.847   0.578      0.81\n",
       "7         0.7   5992  21525    589  6387      0.910   0.484      0.80\n",
       "8         0.8   5146  21901    213  7233      0.960   0.416      0.78\n",
       "9         0.9   4381  22070     44  7998      0.990   0.354      0.77\n",
       "10        1.0   4110  22100     14  8269      0.997   0.332      0.76"
      ]
     },
     "execution_count": 141,
     "metadata": {},
     "output_type": "execute_result"
    }
   ],
   "source": [
    "perf_measures(knn_model,X_test,y_test)"
   ]
  },
  {
   "cell_type": "markdown",
   "id": "38c6111a",
   "metadata": {},
   "source": [
    "<br>**Logistic Model**<br><br> <a class=\"anchor\" id=\"second-model\"></a>"
   ]
  },
  {
   "cell_type": "code",
   "execution_count": 142,
   "id": "966fdf3d",
   "metadata": {},
   "outputs": [
    {
     "data": {
      "text/plain": [
       "LogisticRegression(max_iter=1000)"
      ]
     },
     "execution_count": 142,
     "metadata": {},
     "output_type": "execute_result"
    }
   ],
   "source": [
    "model = LogisticRegression(max_iter=1000)\n",
    "model.fit(X_train,y_train.values.ravel())"
   ]
  },
  {
   "cell_type": "code",
   "execution_count": 143,
   "id": "d5dc0030",
   "metadata": {
    "scrolled": true
   },
   "outputs": [
    {
     "name": "stdout",
     "output_type": "stream",
     "text": [
      "Train Accuracy: 0.779\n",
      "Test Accuracy: 0.776\n"
     ]
    }
   ],
   "source": [
    "y_train_pred_class= model.predict(X_train)\n",
    "y_test_pred_class = model.predict(X_test)\n",
    "\n",
    "print('Train Accuracy:', metrics.accuracy_score(y_train, y_train_pred_class).round(3))\n",
    "print('Test Accuracy:', metrics.accuracy_score(y_test, y_test_pred_class).round(3))"
   ]
  },
  {
   "cell_type": "code",
   "execution_count": 144,
   "id": "a3f75889",
   "metadata": {},
   "outputs": [
    {
     "name": "stdout",
     "output_type": "stream",
     "text": [
      "Average cross validation score: 0.778\n"
     ]
    }
   ],
   "source": [
    "#Cross Validation with KFold = 5\n",
    "scores = cross_val_score(model, X_train, y_train.values.ravel(), cv=5)\n",
    "print(\"Average cross validation score: {:.3f}\".format(scores.mean()))"
   ]
  },
  {
   "cell_type": "markdown",
   "id": "c8ad12ca",
   "metadata": {},
   "source": [
    "> **Observations on Logistic model:** Train accuracy, Test accuracy and cross validation scores are pretty close. So, no major chance of overfitting."
   ]
  },
  {
   "cell_type": "code",
   "execution_count": 145,
   "id": "10e3b5dd",
   "metadata": {},
   "outputs": [
    {
     "data": {
      "text/html": [
       "<div>\n",
       "<style scoped>\n",
       "    .dataframe tbody tr th:only-of-type {\n",
       "        vertical-align: middle;\n",
       "    }\n",
       "\n",
       "    .dataframe tbody tr th {\n",
       "        vertical-align: top;\n",
       "    }\n",
       "\n",
       "    .dataframe thead th {\n",
       "        text-align: right;\n",
       "    }\n",
       "</style>\n",
       "<table border=\"1\" class=\"dataframe\">\n",
       "  <thead>\n",
       "    <tr style=\"text-align: right;\">\n",
       "      <th></th>\n",
       "      <th>threshold</th>\n",
       "      <th>TP</th>\n",
       "      <th>TN</th>\n",
       "      <th>FP</th>\n",
       "      <th>FN</th>\n",
       "      <th>Precision</th>\n",
       "      <th>Recall</th>\n",
       "      <th>Accuracy</th>\n",
       "    </tr>\n",
       "  </thead>\n",
       "  <tbody>\n",
       "    <tr>\n",
       "      <th>0</th>\n",
       "      <td>0.0</td>\n",
       "      <td>12379</td>\n",
       "      <td>0</td>\n",
       "      <td>22114</td>\n",
       "      <td>0</td>\n",
       "      <td>0.359</td>\n",
       "      <td>1.000</td>\n",
       "      <td>0.36</td>\n",
       "    </tr>\n",
       "    <tr>\n",
       "      <th>1</th>\n",
       "      <td>0.1</td>\n",
       "      <td>12133</td>\n",
       "      <td>5730</td>\n",
       "      <td>16384</td>\n",
       "      <td>246</td>\n",
       "      <td>0.425</td>\n",
       "      <td>0.980</td>\n",
       "      <td>0.52</td>\n",
       "    </tr>\n",
       "    <tr>\n",
       "      <th>2</th>\n",
       "      <td>0.2</td>\n",
       "      <td>11209</td>\n",
       "      <td>11208</td>\n",
       "      <td>10906</td>\n",
       "      <td>1170</td>\n",
       "      <td>0.507</td>\n",
       "      <td>0.905</td>\n",
       "      <td>0.65</td>\n",
       "    </tr>\n",
       "    <tr>\n",
       "      <th>3</th>\n",
       "      <td>0.3</td>\n",
       "      <td>9843</td>\n",
       "      <td>15632</td>\n",
       "      <td>6482</td>\n",
       "      <td>2536</td>\n",
       "      <td>0.603</td>\n",
       "      <td>0.795</td>\n",
       "      <td>0.74</td>\n",
       "    </tr>\n",
       "    <tr>\n",
       "      <th>4</th>\n",
       "      <td>0.4</td>\n",
       "      <td>8021</td>\n",
       "      <td>18659</td>\n",
       "      <td>3455</td>\n",
       "      <td>4358</td>\n",
       "      <td>0.699</td>\n",
       "      <td>0.648</td>\n",
       "      <td>0.77</td>\n",
       "    </tr>\n",
       "    <tr>\n",
       "      <th>5</th>\n",
       "      <td>0.5</td>\n",
       "      <td>6548</td>\n",
       "      <td>20235</td>\n",
       "      <td>1879</td>\n",
       "      <td>5831</td>\n",
       "      <td>0.777</td>\n",
       "      <td>0.529</td>\n",
       "      <td>0.78</td>\n",
       "    </tr>\n",
       "    <tr>\n",
       "      <th>6</th>\n",
       "      <td>0.6</td>\n",
       "      <td>5430</td>\n",
       "      <td>21330</td>\n",
       "      <td>784</td>\n",
       "      <td>6949</td>\n",
       "      <td>0.874</td>\n",
       "      <td>0.439</td>\n",
       "      <td>0.78</td>\n",
       "    </tr>\n",
       "    <tr>\n",
       "      <th>7</th>\n",
       "      <td>0.7</td>\n",
       "      <td>4583</td>\n",
       "      <td>21850</td>\n",
       "      <td>264</td>\n",
       "      <td>7796</td>\n",
       "      <td>0.946</td>\n",
       "      <td>0.370</td>\n",
       "      <td>0.77</td>\n",
       "    </tr>\n",
       "    <tr>\n",
       "      <th>8</th>\n",
       "      <td>0.8</td>\n",
       "      <td>4002</td>\n",
       "      <td>22047</td>\n",
       "      <td>67</td>\n",
       "      <td>8377</td>\n",
       "      <td>0.984</td>\n",
       "      <td>0.323</td>\n",
       "      <td>0.76</td>\n",
       "    </tr>\n",
       "    <tr>\n",
       "      <th>9</th>\n",
       "      <td>0.9</td>\n",
       "      <td>3640</td>\n",
       "      <td>22101</td>\n",
       "      <td>13</td>\n",
       "      <td>8739</td>\n",
       "      <td>0.996</td>\n",
       "      <td>0.294</td>\n",
       "      <td>0.75</td>\n",
       "    </tr>\n",
       "    <tr>\n",
       "      <th>10</th>\n",
       "      <td>1.0</td>\n",
       "      <td>0</td>\n",
       "      <td>22114</td>\n",
       "      <td>0</td>\n",
       "      <td>12379</td>\n",
       "      <td>0.000</td>\n",
       "      <td>0.000</td>\n",
       "      <td>0.64</td>\n",
       "    </tr>\n",
       "  </tbody>\n",
       "</table>\n",
       "</div>"
      ],
      "text/plain": [
       "    threshold     TP     TN     FP     FN  Precision  Recall  Accuracy\n",
       "0         0.0  12379      0  22114      0      0.359   1.000      0.36\n",
       "1         0.1  12133   5730  16384    246      0.425   0.980      0.52\n",
       "2         0.2  11209  11208  10906   1170      0.507   0.905      0.65\n",
       "3         0.3   9843  15632   6482   2536      0.603   0.795      0.74\n",
       "4         0.4   8021  18659   3455   4358      0.699   0.648      0.77\n",
       "5         0.5   6548  20235   1879   5831      0.777   0.529      0.78\n",
       "6         0.6   5430  21330    784   6949      0.874   0.439      0.78\n",
       "7         0.7   4583  21850    264   7796      0.946   0.370      0.77\n",
       "8         0.8   4002  22047     67   8377      0.984   0.323      0.76\n",
       "9         0.9   3640  22101     13   8739      0.996   0.294      0.75\n",
       "10        1.0      0  22114      0  12379      0.000   0.000      0.64"
      ]
     },
     "execution_count": 145,
     "metadata": {},
     "output_type": "execute_result"
    }
   ],
   "source": [
    "perf_measures(model,X_test,y_test)"
   ]
  },
  {
   "cell_type": "markdown",
   "id": "850b287c",
   "metadata": {},
   "source": [
    "> **Logistic model with Regularization - Ridge and Lasso Regression**\n",
    "> - Although the logistic model doesn't seem to overfit the train data as the prediction variance is quite low. Let's explore if we can improve the accuracy of the above logistic model using Ridge and Lasso Regression analysis. \n",
    "\n",
    "> Note: Ridge and Lasso model nullifies the effect of least significant features of the data set by introducing a penality term. So, let's start with start with df3 (dataframe after handling the outliers above) and skip to data Normalization and train-test-split, bypassing the feature selection step."
   ]
  },
  {
   "cell_type": "code",
   "execution_count": 39,
   "id": "655c7065",
   "metadata": {},
   "outputs": [
    {
     "name": "stderr",
     "output_type": "stream",
     "text": [
      "C:\\Users\\vreddy20\\AppData\\Local\\Temp\\ipykernel_2780\\580875065.py:3: SettingWithCopyWarning: \n",
      "A value is trying to be set on a copy of a slice from a DataFrame.\n",
      "Try using .loc[row_indexer,col_indexer] = value instead\n",
      "\n",
      "See the caveats in the documentation: https://pandas.pydata.org/pandas-docs/stable/user_guide/indexing.html#returning-a-view-versus-a-copy\n",
      "  df3['country'] = np.where(df3['country'].isin(keep), df3['country'], 'Others')\n"
     ]
    }
   ],
   "source": [
    "# Keep top 5 Country and label all the rest as \"OTHER\"\n",
    "keep = df3['country'].value_counts().index[:5]\n",
    "df3['country'] = np.where(df3['country'].isin(keep), df3['country'], 'Others')"
   ]
  },
  {
   "cell_type": "code",
   "execution_count": 40,
   "id": "ba7be611",
   "metadata": {},
   "outputs": [
    {
     "name": "stderr",
     "output_type": "stream",
     "text": [
      "C:\\Users\\vreddy20\\AppData\\Local\\Temp\\ipykernel_2780\\3359867818.py:7: SettingWithCopyWarning: \n",
      "A value is trying to be set on a copy of a slice from a DataFrame.\n",
      "Try using .loc[row_indexer,col_indexer] = value instead\n",
      "\n",
      "See the caveats in the documentation: https://pandas.pydata.org/pandas-docs/stable/user_guide/indexing.html#returning-a-view-versus-a-copy\n",
      "  df3[var] = df3[var].astype(\"category\")\n",
      "C:\\Users\\vreddy20\\AppData\\Local\\Temp\\ipykernel_2780\\3359867818.py:7: SettingWithCopyWarning: \n",
      "A value is trying to be set on a copy of a slice from a DataFrame.\n",
      "Try using .loc[row_indexer,col_indexer] = value instead\n",
      "\n",
      "See the caveats in the documentation: https://pandas.pydata.org/pandas-docs/stable/user_guide/indexing.html#returning-a-view-versus-a-copy\n",
      "  df3[var] = df3[var].astype(\"category\")\n",
      "C:\\Users\\vreddy20\\AppData\\Local\\Temp\\ipykernel_2780\\3359867818.py:7: SettingWithCopyWarning: \n",
      "A value is trying to be set on a copy of a slice from a DataFrame.\n",
      "Try using .loc[row_indexer,col_indexer] = value instead\n",
      "\n",
      "See the caveats in the documentation: https://pandas.pydata.org/pandas-docs/stable/user_guide/indexing.html#returning-a-view-versus-a-copy\n",
      "  df3[var] = df3[var].astype(\"category\")\n",
      "C:\\Users\\vreddy20\\AppData\\Local\\Temp\\ipykernel_2780\\3359867818.py:7: SettingWithCopyWarning: \n",
      "A value is trying to be set on a copy of a slice from a DataFrame.\n",
      "Try using .loc[row_indexer,col_indexer] = value instead\n",
      "\n",
      "See the caveats in the documentation: https://pandas.pydata.org/pandas-docs/stable/user_guide/indexing.html#returning-a-view-versus-a-copy\n",
      "  df3[var] = df3[var].astype(\"category\")\n",
      "C:\\Users\\vreddy20\\AppData\\Local\\Temp\\ipykernel_2780\\3359867818.py:7: SettingWithCopyWarning: \n",
      "A value is trying to be set on a copy of a slice from a DataFrame.\n",
      "Try using .loc[row_indexer,col_indexer] = value instead\n",
      "\n",
      "See the caveats in the documentation: https://pandas.pydata.org/pandas-docs/stable/user_guide/indexing.html#returning-a-view-versus-a-copy\n",
      "  df3[var] = df3[var].astype(\"category\")\n",
      "C:\\Users\\vreddy20\\AppData\\Local\\Temp\\ipykernel_2780\\3359867818.py:7: SettingWithCopyWarning: \n",
      "A value is trying to be set on a copy of a slice from a DataFrame.\n",
      "Try using .loc[row_indexer,col_indexer] = value instead\n",
      "\n",
      "See the caveats in the documentation: https://pandas.pydata.org/pandas-docs/stable/user_guide/indexing.html#returning-a-view-versus-a-copy\n",
      "  df3[var] = df3[var].astype(\"category\")\n",
      "C:\\Users\\vreddy20\\AppData\\Local\\Temp\\ipykernel_2780\\3359867818.py:7: SettingWithCopyWarning: \n",
      "A value is trying to be set on a copy of a slice from a DataFrame.\n",
      "Try using .loc[row_indexer,col_indexer] = value instead\n",
      "\n",
      "See the caveats in the documentation: https://pandas.pydata.org/pandas-docs/stable/user_guide/indexing.html#returning-a-view-versus-a-copy\n",
      "  df3[var] = df3[var].astype(\"category\")\n",
      "C:\\Users\\vreddy20\\AppData\\Local\\Temp\\ipykernel_2780\\3359867818.py:7: SettingWithCopyWarning: \n",
      "A value is trying to be set on a copy of a slice from a DataFrame.\n",
      "Try using .loc[row_indexer,col_indexer] = value instead\n",
      "\n",
      "See the caveats in the documentation: https://pandas.pydata.org/pandas-docs/stable/user_guide/indexing.html#returning-a-view-versus-a-copy\n",
      "  df3[var] = df3[var].astype(\"category\")\n",
      "C:\\Users\\vreddy20\\AppData\\Local\\Temp\\ipykernel_2780\\3359867818.py:7: SettingWithCopyWarning: \n",
      "A value is trying to be set on a copy of a slice from a DataFrame.\n",
      "Try using .loc[row_indexer,col_indexer] = value instead\n",
      "\n",
      "See the caveats in the documentation: https://pandas.pydata.org/pandas-docs/stable/user_guide/indexing.html#returning-a-view-versus-a-copy\n",
      "  df3[var] = df3[var].astype(\"category\")\n",
      "C:\\Users\\vreddy20\\AppData\\Local\\Temp\\ipykernel_2780\\3359867818.py:7: SettingWithCopyWarning: \n",
      "A value is trying to be set on a copy of a slice from a DataFrame.\n",
      "Try using .loc[row_indexer,col_indexer] = value instead\n",
      "\n",
      "See the caveats in the documentation: https://pandas.pydata.org/pandas-docs/stable/user_guide/indexing.html#returning-a-view-versus-a-copy\n",
      "  df3[var] = df3[var].astype(\"category\")\n"
     ]
    }
   ],
   "source": [
    "# Flag all categorical variables and convert to dummies\n",
    "cat_vars = ['hotel','arrival_date_month','country',\n",
    "            'distribution_channel','deposit_type','customer_type','meal','market_segment','reserved_room_type','assigned_room_type'\n",
    "           ]\n",
    "# Loop over categorical vars and encode each one\n",
    "for var in cat_vars:\n",
    "    df3[var] = df3[var].astype(\"category\")\n",
    "\n",
    "df3 = pd.get_dummies(df3,columns=cat_vars, prefix_sep='_', drop_first=True)"
   ]
  },
  {
   "cell_type": "code",
   "execution_count": 148,
   "id": "449fee53",
   "metadata": {},
   "outputs": [],
   "source": [
    "X = df3.drop(['is_canceled'],axis=1).copy()\n",
    "y = df3['is_canceled']\n",
    "\n",
    "# Split data\n",
    "X_train_mm,X_test_mm,y_train,y_test = train_test_split(X,y, test_size=0.3,random_state=4)\n",
    "\n",
    "mm_scaler = MinMaxScaler()\n",
    "mm_scaler.fit(X_train_mm)\n",
    "X_train = mm_scaler.transform(X_train_mm)\n",
    "X_test = mm_scaler.transform(X_test_mm)"
   ]
  },
  {
   "cell_type": "code",
   "execution_count": 149,
   "id": "57c2d2fc",
   "metadata": {},
   "outputs": [],
   "source": [
    "lr_model = LogisticRegression()\n",
    "\n",
    "# Parameters we want to explore/evaluate\n",
    "parameters = {\n",
    "    'penalty':['l1','l2'],\n",
    "    'C': np.logspace(-4,4,10),\n",
    "    'solver': ['newton-cg','lbfgs','liblinear']\n",
    "}"
   ]
  },
  {
   "cell_type": "code",
   "execution_count": 150,
   "id": "4906fdb2",
   "metadata": {},
   "outputs": [],
   "source": [
    "# Setting up a grid search to find the Best Hyperparameters\n",
    "clf = GridSearchCV(lr_model,\n",
    "                   param_grid = parameters,\n",
    "                   scoring = 'accuracy',\n",
    "                   cv = 10\n",
    "                  )"
   ]
  },
  {
   "cell_type": "code",
   "execution_count": 151,
   "id": "7012dfae",
   "metadata": {},
   "outputs": [],
   "source": [
    "best_lr = clf.fit(X_train,y_train.values.ravel())"
   ]
  },
  {
   "cell_type": "code",
   "execution_count": 152,
   "id": "f14879ef",
   "metadata": {},
   "outputs": [
    {
     "name": "stdout",
     "output_type": "stream",
     "text": [
      "Best Hyperparameters : {'C': 1291.5496650148827, 'penalty': 'l2', 'solver': 'liblinear'}\n",
      "Accuracy : 0.808501353970845\n"
     ]
    }
   ],
   "source": [
    "print(\"Best Hyperparameters :\", best_lr.best_params_)\n",
    "print(\"Accuracy :\", best_lr.best_score_)"
   ]
  },
  {
   "cell_type": "markdown",
   "id": "1a72a088",
   "metadata": {},
   "source": [
    "> From the grid search above, we have the best Hyperparameters as **'C':** 1291.54434690031882, **'penalty':** 'l2', **'solver':** 'liblinear'\n",
    "> - Let's train the model using the above Hyperparameters and check for accuarcy"
   ]
  },
  {
   "cell_type": "code",
   "execution_count": 153,
   "id": "4a002ab9",
   "metadata": {},
   "outputs": [
    {
     "data": {
      "text/plain": [
       "LogisticRegressionCV(Cs=2, penalty='l1', solver='liblinear')"
      ]
     },
     "execution_count": 153,
     "metadata": {},
     "output_type": "execute_result"
    }
   ],
   "source": [
    "ridge_lr = LogisticRegressionCV(penalty='l1', Cs=2,solver='liblinear')\n",
    "ridge_lr.fit(X_train,y_train.values.ravel())"
   ]
  },
  {
   "cell_type": "code",
   "execution_count": 154,
   "id": "e50e4b1f",
   "metadata": {},
   "outputs": [
    {
     "name": "stdout",
     "output_type": "stream",
     "text": [
      "Train Accuracy: 0.809\n",
      "Test Accuracy: 0.805\n"
     ]
    }
   ],
   "source": [
    "y_train_pred_class= ridge_lr.predict(X_train)\n",
    "y_test_pred_class = ridge_lr.predict(X_test)\n",
    "\n",
    "print('Train Accuracy:', metrics.accuracy_score(y_train, y_train_pred_class).round(3))\n",
    "print('Test Accuracy:', metrics.accuracy_score(y_test, y_test_pred_class).round(3))"
   ]
  },
  {
   "cell_type": "markdown",
   "id": "9124d1a2",
   "metadata": {},
   "source": [
    "> **Observation**: The accuracy of Logistic model with regularization has slightly increased but is not significant enough.\n"
   ]
  },
  {
   "cell_type": "markdown",
   "id": "c62d44bd",
   "metadata": {},
   "source": [
    "<br>**Decision Tree Classifier**<br><br> <a class=\"anchor\" id=\"Third-model\"></a>"
   ]
  },
  {
   "cell_type": "markdown",
   "id": "cfc56d25",
   "metadata": {},
   "source": [
    "> **Note:** Decision Trees, Random Forest and Neural Nets are capable enough to select the best features automatically and moreover, Data Normalization is not required for these model. Therefore, we start with df3 (dataframe after handling the outliers above) and skip to train-test-split, bypassing the feature selection and Data normalization steps "
   ]
  },
  {
   "cell_type": "code",
   "execution_count": 41,
   "id": "0ae4cdbd",
   "metadata": {},
   "outputs": [],
   "source": [
    "X = df3.drop(['is_canceled'],axis=1).copy()\n",
    "y = df3['is_canceled']\n",
    "\n",
    "X_train, X_test, y_train, y_test = train_test_split(X, y, test_size=0.3, random_state=1)"
   ]
  },
  {
   "cell_type": "code",
   "execution_count": 42,
   "id": "9f1bf5ca",
   "metadata": {},
   "outputs": [
    {
     "data": {
      "text/plain": [
       "DecisionTreeClassifier(random_state=1)"
      ]
     },
     "execution_count": 42,
     "metadata": {},
     "output_type": "execute_result"
    }
   ],
   "source": [
    "dt = DecisionTreeClassifier(random_state=1)\n",
    "dt.fit(X_train,y_train)"
   ]
  },
  {
   "cell_type": "markdown",
   "id": "c1e419e0",
   "metadata": {},
   "source": [
    "> **Pruning:**\n",
    "> - Decision Trees often overfit the train data - So Prune the Decision Trees\n",
    "> - Pruning in 2 steps \n",
    ">>  - Cost complexity \n",
    ">>  - Specify max depth, min_samples_split, min_impurity_decrease"
   ]
  },
  {
   "cell_type": "code",
   "execution_count": 157,
   "id": "8d1431f3",
   "metadata": {},
   "outputs": [],
   "source": [
    "#Pruning using cost complexity function\n",
    "path = dt.cost_complexity_pruning_path(X_train, y_train)\n",
    "ccp_alphas = path.ccp_alphas\n",
    "ccp_alphas = ccp_alphas[:-1]"
   ]
  },
  {
   "cell_type": "markdown",
   "id": "6a2d923d",
   "metadata": {},
   "source": [
    "> Setting up a for loop to pick the best alpha value (penality term) in pruning back the decision tree"
   ]
  },
  {
   "cell_type": "code",
   "execution_count": 158,
   "id": "3a08d16d",
   "metadata": {},
   "outputs": [],
   "source": [
    "dts = []\n",
    "\n",
    "for ccp_alpha in ccp_alphas[0::40]:\n",
    "    dt = DecisionTreeClassifier(random_state=0, ccp_alpha=ccp_alpha)\n",
    "    dt.fit(X_train,y_train)\n",
    "    dts.append(dt)"
   ]
  },
  {
   "cell_type": "code",
   "execution_count": 159,
   "id": "1f30eea7",
   "metadata": {},
   "outputs": [
    {
     "data": {
      "image/png": "[encoded data removed]",
      "text/plain": [
       "<Figure size 720x360 with 1 Axes>"
      ]
     },
     "metadata": {},
     "output_type": "display_data"
    }
   ],
   "source": [
    "train_scores = [dt.score(X_train,y_train) for dt in dts]\n",
    "test_scores = [dt.score(X_test,y_test) for dt in dts]\n",
    "\n",
    "fix, ax = plt.subplots()\n",
    "ax.set_xlabel('alpha')\n",
    "ax.set_ylabel('accuracy')\n",
    "ax.set_title(\"Accuracy vs Alpha for Training and Testing Sets\")\n",
    "ax.plot(ccp_alphas[0::40], train_scores, marker='o', label=\"train\", drawstyle=\"steps-post\")\n",
    "ax.plot(ccp_alphas[0::40], test_scores, marker='o', label=\"test\",drawstyle='steps-post')\n",
    "ax.legend()\n",
    "plt.show()"
   ]
  },
  {
   "cell_type": "markdown",
   "id": "7913ae08",
   "metadata": {},
   "source": [
    "> Set up a grid search to find the best values for max depth, min_samples_split, min_impurity_decrease"
   ]
  },
  {
   "cell_type": "code",
   "execution_count": 160,
   "id": "c6fb8de9",
   "metadata": {},
   "outputs": [],
   "source": [
    "# grid search to find the best values hyperparameters\n",
    "param_grid = {\n",
    "    'max_depth': [10, 20, 30, 40],\n",
    "    'min_samples_split': [20, 40, 60, 80],\n",
    "    'min_impurity_decrease': [0, 0.0005, 0.001, 0.005]\n",
    "}"
   ]
  },
  {
   "cell_type": "code",
   "execution_count": 161,
   "id": "58b16405",
   "metadata": {},
   "outputs": [
    {
     "name": "stdout",
     "output_type": "stream",
     "text": [
      "Initial score:  0.8424969642294089\n",
      "Initial parameters:  {'max_depth': 20, 'min_impurity_decrease': 0, 'min_samples_split': 60}\n"
     ]
    }
   ],
   "source": [
    "gridSearch = GridSearchCV(DecisionTreeClassifier(random_state=1), \n",
    "                          param_grid, \n",
    "                          cv=5,\n",
    "                          n_jobs=-1  #used to marshall all available CPUs\n",
    "                         )\n",
    "gridSearch.fit(X_train,y_train)\n",
    "\n",
    "print('Initial score: ', gridSearch.best_score_)\n",
    "print('Initial parameters: ', gridSearch.best_params_)"
   ]
  },
  {
   "cell_type": "markdown",
   "id": "f5efb856",
   "metadata": {},
   "source": [
    "> Now, let's scale down the search a further based on the above observations."
   ]
  },
  {
   "cell_type": "code",
   "execution_count": 21,
   "id": "43f84297",
   "metadata": {},
   "outputs": [],
   "source": [
    "# Adapt grid based on findings in last cell\n",
    "param_grid = {\n",
    "    'max_depth': list(range(15,30)),\n",
    "    'min_samples_split': list(range(60,80)),\n",
    "    'min_impurity_decrease': [0.0001, 0.0002, 0.0003, 0.0004]\n",
    "}"
   ]
  },
  {
   "cell_type": "code",
   "execution_count": 22,
   "id": "af6f5736",
   "metadata": {},
   "outputs": [
    {
     "name": "stdout",
     "output_type": "stream",
     "text": [
      "Improved score:  0.8434040187958415\n",
      "Improved parameters:  {'max_depth': 19, 'min_impurity_decrease': 0.0001, 'min_samples_split': 60}\n"
     ]
    }
   ],
   "source": [
    "gridSearch = GridSearchCV(DecisionTreeClassifier(random_state=1), \n",
    "                          param_grid, \n",
    "                          cv=5,\n",
    "                          n_jobs=-1  #used to marshall all available CPUs\n",
    "                         )\n",
    "gridSearch.fit(X_train,y_train)\n",
    "\n",
    "print('Improved score: ', gridSearch.best_score_)\n",
    "print('Improved parameters: ', gridSearch.best_params_)"
   ]
  },
  {
   "cell_type": "markdown",
   "id": "5fc38d28",
   "metadata": {},
   "source": [
    "> **Observation:** Final Values of the best hyperparameters as per the above analysis <br>\n",
    "> - 'max_depth': 20, 'min_impurity_decrease': 0, 'min_samples_split': 40  and 'ccp_alpha'=0.0008"
   ]
  },
  {
   "cell_type": "code",
   "execution_count": 43,
   "id": "1d45faeb",
   "metadata": {},
   "outputs": [
    {
     "data": {
      "text/plain": [
       "DecisionTreeClassifier(ccp_alpha=0.0008, max_depth=19,\n",
       "                       min_impurity_decrease=0.0001, min_samples_split=60,\n",
       "                       random_state=0)"
      ]
     },
     "execution_count": 43,
     "metadata": {},
     "output_type": "execute_result"
    }
   ],
   "source": [
    "#Fit the model using above hyperparameters\n",
    "dt = DecisionTreeClassifier(random_state=0, ccp_alpha=0.0008, min_samples_split=60, max_depth=19, min_impurity_decrease = 0.0001)\n",
    "dt.fit(X_train,y_train)"
   ]
  },
  {
   "cell_type": "code",
   "execution_count": 45,
   "id": "62f3b2c1",
   "metadata": {},
   "outputs": [
    {
     "name": "stdout",
     "output_type": "stream",
     "text": [
      "Accuracy:  0.83\n"
     ]
    }
   ],
   "source": [
    "y_pred_prob = dt.predict_proba(X_test)[:,1]\n",
    "y_pred_class = binarize([y_pred_prob],threshold=0.5)[0]\n",
    "confusion=confusion_matrix(y_test,y_pred_class)\n",
    "\n",
    "print('Accuracy: ', metrics.accuracy_score(y_test,y_pred_class).round(2))"
   ]
  },
  {
   "cell_type": "code",
   "execution_count": 166,
   "id": "dc92de3d",
   "metadata": {},
   "outputs": [
    {
     "name": "stdout",
     "output_type": "stream",
     "text": [
      "Average cross validation score: 0.830\n"
     ]
    }
   ],
   "source": [
    "scores = cross_val_score(dt, X_train, y_train.values.ravel(), cv=5)\n",
    "print(\"Average cross validation score: {:.3f}\".format(scores.mean()))"
   ]
  },
  {
   "cell_type": "markdown",
   "id": "797185f5",
   "metadata": {},
   "source": [
    "> **Observations on Decision Tree model:** Test accuracy and cross validation scores are pretty close. So, no major chance of overfitting."
   ]
  },
  {
   "cell_type": "code",
   "execution_count": 46,
   "id": "1f7262f4",
   "metadata": {},
   "outputs": [
    {
     "name": "stderr",
     "output_type": "stream",
     "text": [
      "C:\\Users\\vreddy20\\Anaconda3\\lib\\site-packages\\sklearn\\metrics\\_classification.py:1318: UndefinedMetricWarning: Precision is ill-defined and being set to 0.0 due to no predicted samples. Use `zero_division` parameter to control this behavior.\n",
      "  _warn_prf(average, modifier, msg_start, len(result))\n"
     ]
    },
    {
     "data": {
      "text/html": [
       "<div>\n",
       "<style scoped>\n",
       "    .dataframe tbody tr th:only-of-type {\n",
       "        vertical-align: middle;\n",
       "    }\n",
       "\n",
       "    .dataframe tbody tr th {\n",
       "        vertical-align: top;\n",
       "    }\n",
       "\n",
       "    .dataframe thead th {\n",
       "        text-align: right;\n",
       "    }\n",
       "</style>\n",
       "<table border=\"1\" class=\"dataframe\">\n",
       "  <thead>\n",
       "    <tr style=\"text-align: right;\">\n",
       "      <th></th>\n",
       "      <th>threshold</th>\n",
       "      <th>TP</th>\n",
       "      <th>TN</th>\n",
       "      <th>FP</th>\n",
       "      <th>FN</th>\n",
       "      <th>Precision</th>\n",
       "      <th>Recall</th>\n",
       "      <th>Accuracy</th>\n",
       "    </tr>\n",
       "  </thead>\n",
       "  <tbody>\n",
       "    <tr>\n",
       "      <th>0</th>\n",
       "      <td>0.0</td>\n",
       "      <td>12441</td>\n",
       "      <td>0</td>\n",
       "      <td>22052</td>\n",
       "      <td>0</td>\n",
       "      <td>0.361</td>\n",
       "      <td>1.000</td>\n",
       "      <td>0.36</td>\n",
       "    </tr>\n",
       "    <tr>\n",
       "      <th>1</th>\n",
       "      <td>0.1</td>\n",
       "      <td>11889</td>\n",
       "      <td>11136</td>\n",
       "      <td>10916</td>\n",
       "      <td>552</td>\n",
       "      <td>0.521</td>\n",
       "      <td>0.956</td>\n",
       "      <td>0.67</td>\n",
       "    </tr>\n",
       "    <tr>\n",
       "      <th>2</th>\n",
       "      <td>0.2</td>\n",
       "      <td>10929</td>\n",
       "      <td>15659</td>\n",
       "      <td>6393</td>\n",
       "      <td>1512</td>\n",
       "      <td>0.631</td>\n",
       "      <td>0.878</td>\n",
       "      <td>0.77</td>\n",
       "    </tr>\n",
       "    <tr>\n",
       "      <th>3</th>\n",
       "      <td>0.3</td>\n",
       "      <td>10218</td>\n",
       "      <td>17351</td>\n",
       "      <td>4701</td>\n",
       "      <td>2223</td>\n",
       "      <td>0.685</td>\n",
       "      <td>0.821</td>\n",
       "      <td>0.80</td>\n",
       "    </tr>\n",
       "    <tr>\n",
       "      <th>4</th>\n",
       "      <td>0.4</td>\n",
       "      <td>9088</td>\n",
       "      <td>19359</td>\n",
       "      <td>2693</td>\n",
       "      <td>3353</td>\n",
       "      <td>0.771</td>\n",
       "      <td>0.730</td>\n",
       "      <td>0.82</td>\n",
       "    </tr>\n",
       "    <tr>\n",
       "      <th>5</th>\n",
       "      <td>0.5</td>\n",
       "      <td>8646</td>\n",
       "      <td>19831</td>\n",
       "      <td>2221</td>\n",
       "      <td>3795</td>\n",
       "      <td>0.796</td>\n",
       "      <td>0.695</td>\n",
       "      <td>0.83</td>\n",
       "    </tr>\n",
       "    <tr>\n",
       "      <th>6</th>\n",
       "      <td>0.6</td>\n",
       "      <td>8418</td>\n",
       "      <td>20020</td>\n",
       "      <td>2032</td>\n",
       "      <td>4023</td>\n",
       "      <td>0.806</td>\n",
       "      <td>0.677</td>\n",
       "      <td>0.82</td>\n",
       "    </tr>\n",
       "    <tr>\n",
       "      <th>7</th>\n",
       "      <td>0.7</td>\n",
       "      <td>4321</td>\n",
       "      <td>22001</td>\n",
       "      <td>51</td>\n",
       "      <td>8120</td>\n",
       "      <td>0.988</td>\n",
       "      <td>0.347</td>\n",
       "      <td>0.76</td>\n",
       "    </tr>\n",
       "    <tr>\n",
       "      <th>8</th>\n",
       "      <td>0.8</td>\n",
       "      <td>4279</td>\n",
       "      <td>22021</td>\n",
       "      <td>31</td>\n",
       "      <td>8162</td>\n",
       "      <td>0.993</td>\n",
       "      <td>0.344</td>\n",
       "      <td>0.76</td>\n",
       "    </tr>\n",
       "    <tr>\n",
       "      <th>9</th>\n",
       "      <td>0.9</td>\n",
       "      <td>4258</td>\n",
       "      <td>22021</td>\n",
       "      <td>31</td>\n",
       "      <td>8183</td>\n",
       "      <td>0.993</td>\n",
       "      <td>0.342</td>\n",
       "      <td>0.76</td>\n",
       "    </tr>\n",
       "    <tr>\n",
       "      <th>10</th>\n",
       "      <td>1.0</td>\n",
       "      <td>0</td>\n",
       "      <td>22052</td>\n",
       "      <td>0</td>\n",
       "      <td>12441</td>\n",
       "      <td>0.000</td>\n",
       "      <td>0.000</td>\n",
       "      <td>0.64</td>\n",
       "    </tr>\n",
       "  </tbody>\n",
       "</table>\n",
       "</div>"
      ],
      "text/plain": [
       "    threshold     TP     TN     FP     FN  Precision  Recall  Accuracy\n",
       "0         0.0  12441      0  22052      0      0.361   1.000      0.36\n",
       "1         0.1  11889  11136  10916    552      0.521   0.956      0.67\n",
       "2         0.2  10929  15659   6393   1512      0.631   0.878      0.77\n",
       "3         0.3  10218  17351   4701   2223      0.685   0.821      0.80\n",
       "4         0.4   9088  19359   2693   3353      0.771   0.730      0.82\n",
       "5         0.5   8646  19831   2221   3795      0.796   0.695      0.83\n",
       "6         0.6   8418  20020   2032   4023      0.806   0.677      0.82\n",
       "7         0.7   4321  22001     51   8120      0.988   0.347      0.76\n",
       "8         0.8   4279  22021     31   8162      0.993   0.344      0.76\n",
       "9         0.9   4258  22021     31   8183      0.993   0.342      0.76\n",
       "10        1.0      0  22052      0  12441      0.000   0.000      0.64"
      ]
     },
     "execution_count": 46,
     "metadata": {},
     "output_type": "execute_result"
    }
   ],
   "source": [
    "perf_measures(dt,X_test,y_test)"
   ]
  },
  {
   "cell_type": "markdown",
   "id": "218c5b00",
   "metadata": {},
   "source": [
    "Even after the estimation best hyperparameters for the Decision tree, the maximun accuracy we can achieve from this model is 83% at 0.5 threshold. Let's figure out if we can improve this by creating a random forest"
   ]
  },
  {
   "cell_type": "markdown",
   "id": "2cd00030",
   "metadata": {},
   "source": [
    "<br>**Random_Forest_Classifier**<br><br> <a class=\"anchor\" id=\"Fourth-model\"></a>"
   ]
  },
  {
   "cell_type": "code",
   "execution_count": 47,
   "id": "c03b420d",
   "metadata": {},
   "outputs": [
    {
     "data": {
      "text/plain": [
       "RandomForestClassifier(ccp_alpha=0.0008, max_depth=19, max_features=20,\n",
       "                       min_impurity_decrease=0.0001, min_samples_split=60,\n",
       "                       random_state=0)"
      ]
     },
     "execution_count": 47,
     "metadata": {},
     "output_type": "execute_result"
    }
   ],
   "source": [
    "rf = RandomForestClassifier(n_estimators=100, max_depth=19, min_samples_split=60,\n",
    "                               max_features=20, min_impurity_decrease = 0.0001, random_state=0, ccp_alpha=0.0008)\n",
    "\n",
    "rf.fit(X_train,y_train)"
   ]
  },
  {
   "cell_type": "markdown",
   "id": "6fa03c8b",
   "metadata": {},
   "source": [
    "> Since we have already computed the best hyperparameters for a decision tree model, I'm using the same hyperparameters for Random forest model.\n"
   ]
  },
  {
   "cell_type": "code",
   "execution_count": 49,
   "id": "7c6a9550",
   "metadata": {},
   "outputs": [
    {
     "name": "stdout",
     "output_type": "stream",
     "text": [
      "Accuracy:  0.83\n"
     ]
    }
   ],
   "source": [
    "y_pred_prob = rf.predict_proba(X_test)[:,1]\n",
    "y_pred_class = binarize([y_pred_prob],threshold=0.5)[0]\n",
    "confusion=confusion_matrix(y_test,y_pred_class)\n",
    "\n",
    "print('Accuracy: ', metrics.accuracy_score(y_test,y_pred_class).round(2))"
   ]
  },
  {
   "cell_type": "code",
   "execution_count": 171,
   "id": "41e2364b",
   "metadata": {},
   "outputs": [
    {
     "name": "stdout",
     "output_type": "stream",
     "text": [
      "Average cross validation score: 0.835\n"
     ]
    }
   ],
   "source": [
    "scores = cross_val_score(rf, X_train, y_train.values.ravel(), cv=5)\n",
    "print(\"Average cross validation score: {:.3f}\".format(scores.mean()))"
   ]
  },
  {
   "cell_type": "markdown",
   "id": "11e0cf56",
   "metadata": {},
   "source": [
    "> **Observations on Random Forest model:** Test accuracy and cross validation scores are pretty close. So, no major chance of overfitting."
   ]
  },
  {
   "cell_type": "code",
   "execution_count": 50,
   "id": "2a863673",
   "metadata": {},
   "outputs": [
    {
     "name": "stderr",
     "output_type": "stream",
     "text": [
      "C:\\Users\\vreddy20\\Anaconda3\\lib\\site-packages\\sklearn\\metrics\\_classification.py:1318: UndefinedMetricWarning: Precision is ill-defined and being set to 0.0 due to no predicted samples. Use `zero_division` parameter to control this behavior.\n",
      "  _warn_prf(average, modifier, msg_start, len(result))\n"
     ]
    },
    {
     "data": {
      "text/html": [
       "<div>\n",
       "<style scoped>\n",
       "    .dataframe tbody tr th:only-of-type {\n",
       "        vertical-align: middle;\n",
       "    }\n",
       "\n",
       "    .dataframe tbody tr th {\n",
       "        vertical-align: top;\n",
       "    }\n",
       "\n",
       "    .dataframe thead th {\n",
       "        text-align: right;\n",
       "    }\n",
       "</style>\n",
       "<table border=\"1\" class=\"dataframe\">\n",
       "  <thead>\n",
       "    <tr style=\"text-align: right;\">\n",
       "      <th></th>\n",
       "      <th>threshold</th>\n",
       "      <th>TP</th>\n",
       "      <th>TN</th>\n",
       "      <th>FP</th>\n",
       "      <th>FN</th>\n",
       "      <th>Precision</th>\n",
       "      <th>Recall</th>\n",
       "      <th>Accuracy</th>\n",
       "    </tr>\n",
       "  </thead>\n",
       "  <tbody>\n",
       "    <tr>\n",
       "      <th>0</th>\n",
       "      <td>0.0</td>\n",
       "      <td>12441</td>\n",
       "      <td>0</td>\n",
       "      <td>22052</td>\n",
       "      <td>0</td>\n",
       "      <td>0.361</td>\n",
       "      <td>1.000</td>\n",
       "      <td>0.36</td>\n",
       "    </tr>\n",
       "    <tr>\n",
       "      <th>1</th>\n",
       "      <td>0.1</td>\n",
       "      <td>12357</td>\n",
       "      <td>7501</td>\n",
       "      <td>14551</td>\n",
       "      <td>84</td>\n",
       "      <td>0.459</td>\n",
       "      <td>0.993</td>\n",
       "      <td>0.58</td>\n",
       "    </tr>\n",
       "    <tr>\n",
       "      <th>2</th>\n",
       "      <td>0.2</td>\n",
       "      <td>11695</td>\n",
       "      <td>13466</td>\n",
       "      <td>8586</td>\n",
       "      <td>746</td>\n",
       "      <td>0.577</td>\n",
       "      <td>0.940</td>\n",
       "      <td>0.73</td>\n",
       "    </tr>\n",
       "    <tr>\n",
       "      <th>3</th>\n",
       "      <td>0.3</td>\n",
       "      <td>10598</td>\n",
       "      <td>17044</td>\n",
       "      <td>5008</td>\n",
       "      <td>1843</td>\n",
       "      <td>0.679</td>\n",
       "      <td>0.852</td>\n",
       "      <td>0.80</td>\n",
       "    </tr>\n",
       "    <tr>\n",
       "      <th>4</th>\n",
       "      <td>0.4</td>\n",
       "      <td>9304</td>\n",
       "      <td>19345</td>\n",
       "      <td>2707</td>\n",
       "      <td>3137</td>\n",
       "      <td>0.775</td>\n",
       "      <td>0.748</td>\n",
       "      <td>0.83</td>\n",
       "    </tr>\n",
       "    <tr>\n",
       "      <th>5</th>\n",
       "      <td>0.5</td>\n",
       "      <td>8452</td>\n",
       "      <td>20297</td>\n",
       "      <td>1755</td>\n",
       "      <td>3989</td>\n",
       "      <td>0.828</td>\n",
       "      <td>0.679</td>\n",
       "      <td>0.83</td>\n",
       "    </tr>\n",
       "    <tr>\n",
       "      <th>6</th>\n",
       "      <td>0.6</td>\n",
       "      <td>7300</td>\n",
       "      <td>21043</td>\n",
       "      <td>1009</td>\n",
       "      <td>5141</td>\n",
       "      <td>0.879</td>\n",
       "      <td>0.587</td>\n",
       "      <td>0.82</td>\n",
       "    </tr>\n",
       "    <tr>\n",
       "      <th>7</th>\n",
       "      <td>0.7</td>\n",
       "      <td>4385</td>\n",
       "      <td>22031</td>\n",
       "      <td>21</td>\n",
       "      <td>8056</td>\n",
       "      <td>0.995</td>\n",
       "      <td>0.352</td>\n",
       "      <td>0.77</td>\n",
       "    </tr>\n",
       "    <tr>\n",
       "      <th>8</th>\n",
       "      <td>0.8</td>\n",
       "      <td>4191</td>\n",
       "      <td>22042</td>\n",
       "      <td>10</td>\n",
       "      <td>8250</td>\n",
       "      <td>0.998</td>\n",
       "      <td>0.337</td>\n",
       "      <td>0.76</td>\n",
       "    </tr>\n",
       "    <tr>\n",
       "      <th>9</th>\n",
       "      <td>0.9</td>\n",
       "      <td>3922</td>\n",
       "      <td>22048</td>\n",
       "      <td>4</td>\n",
       "      <td>8519</td>\n",
       "      <td>0.999</td>\n",
       "      <td>0.315</td>\n",
       "      <td>0.75</td>\n",
       "    </tr>\n",
       "    <tr>\n",
       "      <th>10</th>\n",
       "      <td>1.0</td>\n",
       "      <td>0</td>\n",
       "      <td>22052</td>\n",
       "      <td>0</td>\n",
       "      <td>12441</td>\n",
       "      <td>0.000</td>\n",
       "      <td>0.000</td>\n",
       "      <td>0.64</td>\n",
       "    </tr>\n",
       "  </tbody>\n",
       "</table>\n",
       "</div>"
      ],
      "text/plain": [
       "    threshold     TP     TN     FP     FN  Precision  Recall  Accuracy\n",
       "0         0.0  12441      0  22052      0      0.361   1.000      0.36\n",
       "1         0.1  12357   7501  14551     84      0.459   0.993      0.58\n",
       "2         0.2  11695  13466   8586    746      0.577   0.940      0.73\n",
       "3         0.3  10598  17044   5008   1843      0.679   0.852      0.80\n",
       "4         0.4   9304  19345   2707   3137      0.775   0.748      0.83\n",
       "5         0.5   8452  20297   1755   3989      0.828   0.679      0.83\n",
       "6         0.6   7300  21043   1009   5141      0.879   0.587      0.82\n",
       "7         0.7   4385  22031     21   8056      0.995   0.352      0.77\n",
       "8         0.8   4191  22042     10   8250      0.998   0.337      0.76\n",
       "9         0.9   3922  22048      4   8519      0.999   0.315      0.75\n",
       "10        1.0      0  22052      0  12441      0.000   0.000      0.64"
      ]
     },
     "execution_count": 50,
     "metadata": {},
     "output_type": "execute_result"
    }
   ],
   "source": [
    "perf_measures(rf,X_test,y_test)"
   ]
  },
  {
   "cell_type": "code",
   "execution_count": 174,
   "id": "18bd3343",
   "metadata": {},
   "outputs": [],
   "source": [
    "#set up a grid search\n",
    "param_grid = {\n",
    "    'max_depth': list(range(10,30)),\n",
    "    'min_samples_split': list(range(40,50)),\n",
    "    'min_impurity_decrease': [0.0001, 0.0002, 0.0003]\n",
    "}"
   ]
  },
  {
   "cell_type": "code",
   "execution_count": 175,
   "id": "f087809d",
   "metadata": {},
   "outputs": [
    {
     "name": "stdout",
     "output_type": "stream",
     "text": [
      "Initial score:  0.8367937827158933\n",
      "Initial parameters:  {'max_depth': 18, 'min_impurity_decrease': 0.0001, 'min_samples_split': 41}\n"
     ]
    }
   ],
   "source": [
    "gridSearch = GridSearchCV(RandomForestClassifier(random_state=1), \n",
    "                          param_grid, \n",
    "                          cv=5,\n",
    "                          n_jobs=-1  #used to marshall all available CPUs\n",
    "                         )\n",
    "gridSearch.fit(X_train,y_train)\n",
    "\n",
    "print('Initial score: ', gridSearch.best_score_)\n",
    "print('Initial parameters: ', gridSearch.best_params_)"
   ]
  },
  {
   "cell_type": "markdown",
   "id": "fde443b0",
   "metadata": {},
   "source": [
    "> **Observation:** Best Hyperparameter values obtained are 'max_depth': 19, 'min_impurity_decrease': 0.0001, 'min_samples_split': 47. <br>\n",
    "> - Now let's fit the Random Forest Model with the Hyperparameters calculated above"
   ]
  },
  {
   "cell_type": "code",
   "execution_count": 51,
   "id": "674cbf8c",
   "metadata": {},
   "outputs": [
    {
     "name": "stdout",
     "output_type": "stream",
     "text": [
      "0.83\n"
     ]
    }
   ],
   "source": [
    "rf = RandomForestClassifier(n_estimators=100, max_depth=18, min_samples_split=41,\n",
    "                               max_features=20, min_impurity_decrease = 0.0001, random_state=0, ccp_alpha=0.0008)\n",
    "\n",
    "rf.fit(X_train,y_train)\n",
    "\n",
    "y_pred_prob = rf.predict_proba(X_test)[:,1]\n",
    "y_pred_class = binarize([y_pred_prob],threshold=0.5)[0]\n",
    "confusion=confusion_matrix(y_test,y_pred_class)\n",
    "\n",
    "print(metrics.accuracy_score(y_test,y_pred_class).round(2))"
   ]
  },
  {
   "cell_type": "markdown",
   "id": "6033e21d",
   "metadata": {},
   "source": [
    "> **My Conclusion:** Accuracy of both the Random Forests (one with hyperparameters estimated for a decision tree and other with hyperparameters estimated from grid search) are same.Therfore, the best hyperparameters estimated for a decision tree will also be the best hyperparameters for a Random Forest\n"
   ]
  },
  {
   "cell_type": "markdown",
   "id": "852a12af",
   "metadata": {},
   "source": [
    "<br>**MLP_Classifier**<br><br> <a class=\"anchor\" id=\"Fifth-model\"></a>"
   ]
  },
  {
   "cell_type": "code",
   "execution_count": 177,
   "id": "f60b9b25",
   "metadata": {},
   "outputs": [
    {
     "data": {
      "text/plain": [
       "MLPClassifier()"
      ]
     },
     "execution_count": 177,
     "metadata": {},
     "output_type": "execute_result"
    }
   ],
   "source": [
    "mlp = MLPClassifier()\n",
    "mlp.fit(X_train, y_train)"
   ]
  },
  {
   "cell_type": "code",
   "execution_count": 178,
   "id": "90aba12f",
   "metadata": {},
   "outputs": [],
   "source": [
    "parameters = {'solver': ['lbfgs'], 'max_iter': [300, 400], 'alpha': 10.0 ** -np.arange(1, 3), 'hidden_layer_sizes':np.arange(20, 30)}\n",
    "clf = GridSearchCV(MLPClassifier(), parameters, n_jobs=-1)"
   ]
  },
  {
   "cell_type": "code",
   "execution_count": 179,
   "id": "2f6ecebf",
   "metadata": {},
   "outputs": [
    {
     "name": "stdout",
     "output_type": "stream",
     "text": [
      "0.6396168039661535\n",
      "{'alpha': 0.01, 'hidden_layer_sizes': 28, 'max_iter': 300, 'solver': 'lbfgs'}\n"
     ]
    }
   ],
   "source": [
    "clf.fit(X_train, y_train)\n",
    "print(clf.score(X_train, y_train))\n",
    "print(clf.best_params_)"
   ]
  },
  {
   "cell_type": "code",
   "execution_count": 180,
   "id": "e7381d08",
   "metadata": {},
   "outputs": [
    {
     "name": "stdout",
     "output_type": "stream",
     "text": [
      "Train score: 0.827\n",
      "Test accuracy: 0.828\n"
     ]
    }
   ],
   "source": [
    "mlp_pred = mlp.predict(X_test)\n",
    "print(\"Train score: {:.3f}\".format(mlp.score(X_train, y_train)))\n",
    "print(\"Test accuracy: {:.3f}\".format(mlp.score(X_test, y_test)))"
   ]
  },
  {
   "cell_type": "code",
   "execution_count": 181,
   "id": "6be6cfa2",
   "metadata": {},
   "outputs": [
    {
     "name": "stdout",
     "output_type": "stream",
     "text": [
      "Average cross validation score: 0.803\n"
     ]
    }
   ],
   "source": [
    "scores = cross_val_score(mlp, X_train, y_train.values.ravel(), cv=5)\n",
    "print(\"Average cross validation score: {:.3f}\".format(scores.mean()))"
   ]
  },
  {
   "cell_type": "code",
   "execution_count": 184,
   "id": "53fc89f9",
   "metadata": {},
   "outputs": [
    {
     "data": {
      "text/html": [
       "<div>\n",
       "<style scoped>\n",
       "    .dataframe tbody tr th:only-of-type {\n",
       "        vertical-align: middle;\n",
       "    }\n",
       "\n",
       "    .dataframe tbody tr th {\n",
       "        vertical-align: top;\n",
       "    }\n",
       "\n",
       "    .dataframe thead th {\n",
       "        text-align: right;\n",
       "    }\n",
       "</style>\n",
       "<table border=\"1\" class=\"dataframe\">\n",
       "  <thead>\n",
       "    <tr style=\"text-align: right;\">\n",
       "      <th></th>\n",
       "      <th>threshold</th>\n",
       "      <th>TP</th>\n",
       "      <th>TN</th>\n",
       "      <th>FP</th>\n",
       "      <th>FN</th>\n",
       "      <th>Precision</th>\n",
       "      <th>Recall</th>\n",
       "      <th>Accuracy</th>\n",
       "    </tr>\n",
       "  </thead>\n",
       "  <tbody>\n",
       "    <tr>\n",
       "      <th>0</th>\n",
       "      <td>0.0</td>\n",
       "      <td>12441</td>\n",
       "      <td>0</td>\n",
       "      <td>22052</td>\n",
       "      <td>0</td>\n",
       "      <td>0.361</td>\n",
       "      <td>1.000</td>\n",
       "      <td>0.36</td>\n",
       "    </tr>\n",
       "    <tr>\n",
       "      <th>1</th>\n",
       "      <td>0.1</td>\n",
       "      <td>12115</td>\n",
       "      <td>10287</td>\n",
       "      <td>11765</td>\n",
       "      <td>326</td>\n",
       "      <td>0.507</td>\n",
       "      <td>0.974</td>\n",
       "      <td>0.65</td>\n",
       "    </tr>\n",
       "    <tr>\n",
       "      <th>2</th>\n",
       "      <td>0.2</td>\n",
       "      <td>11636</td>\n",
       "      <td>13889</td>\n",
       "      <td>8163</td>\n",
       "      <td>805</td>\n",
       "      <td>0.588</td>\n",
       "      <td>0.935</td>\n",
       "      <td>0.74</td>\n",
       "    </tr>\n",
       "    <tr>\n",
       "      <th>3</th>\n",
       "      <td>0.3</td>\n",
       "      <td>11007</td>\n",
       "      <td>16211</td>\n",
       "      <td>5841</td>\n",
       "      <td>1434</td>\n",
       "      <td>0.653</td>\n",
       "      <td>0.885</td>\n",
       "      <td>0.79</td>\n",
       "    </tr>\n",
       "    <tr>\n",
       "      <th>4</th>\n",
       "      <td>0.4</td>\n",
       "      <td>10193</td>\n",
       "      <td>18004</td>\n",
       "      <td>4048</td>\n",
       "      <td>2248</td>\n",
       "      <td>0.716</td>\n",
       "      <td>0.819</td>\n",
       "      <td>0.82</td>\n",
       "    </tr>\n",
       "    <tr>\n",
       "      <th>5</th>\n",
       "      <td>0.5</td>\n",
       "      <td>9279</td>\n",
       "      <td>19265</td>\n",
       "      <td>2787</td>\n",
       "      <td>3162</td>\n",
       "      <td>0.769</td>\n",
       "      <td>0.746</td>\n",
       "      <td>0.83</td>\n",
       "    </tr>\n",
       "    <tr>\n",
       "      <th>6</th>\n",
       "      <td>0.6</td>\n",
       "      <td>8142</td>\n",
       "      <td>20289</td>\n",
       "      <td>1763</td>\n",
       "      <td>4299</td>\n",
       "      <td>0.822</td>\n",
       "      <td>0.654</td>\n",
       "      <td>0.82</td>\n",
       "    </tr>\n",
       "    <tr>\n",
       "      <th>7</th>\n",
       "      <td>0.7</td>\n",
       "      <td>6902</td>\n",
       "      <td>21009</td>\n",
       "      <td>1043</td>\n",
       "      <td>5539</td>\n",
       "      <td>0.869</td>\n",
       "      <td>0.555</td>\n",
       "      <td>0.81</td>\n",
       "    </tr>\n",
       "    <tr>\n",
       "      <th>8</th>\n",
       "      <td>0.8</td>\n",
       "      <td>5814</td>\n",
       "      <td>21524</td>\n",
       "      <td>528</td>\n",
       "      <td>6627</td>\n",
       "      <td>0.917</td>\n",
       "      <td>0.467</td>\n",
       "      <td>0.79</td>\n",
       "    </tr>\n",
       "    <tr>\n",
       "      <th>9</th>\n",
       "      <td>0.9</td>\n",
       "      <td>4878</td>\n",
       "      <td>21865</td>\n",
       "      <td>187</td>\n",
       "      <td>7563</td>\n",
       "      <td>0.963</td>\n",
       "      <td>0.392</td>\n",
       "      <td>0.78</td>\n",
       "    </tr>\n",
       "    <tr>\n",
       "      <th>10</th>\n",
       "      <td>1.0</td>\n",
       "      <td>41</td>\n",
       "      <td>22052</td>\n",
       "      <td>0</td>\n",
       "      <td>12400</td>\n",
       "      <td>1.000</td>\n",
       "      <td>0.003</td>\n",
       "      <td>0.64</td>\n",
       "    </tr>\n",
       "  </tbody>\n",
       "</table>\n",
       "</div>"
      ],
      "text/plain": [
       "    threshold     TP     TN     FP     FN  Precision  Recall  Accuracy\n",
       "0         0.0  12441      0  22052      0      0.361   1.000      0.36\n",
       "1         0.1  12115  10287  11765    326      0.507   0.974      0.65\n",
       "2         0.2  11636  13889   8163    805      0.588   0.935      0.74\n",
       "3         0.3  11007  16211   5841   1434      0.653   0.885      0.79\n",
       "4         0.4  10193  18004   4048   2248      0.716   0.819      0.82\n",
       "5         0.5   9279  19265   2787   3162      0.769   0.746      0.83\n",
       "6         0.6   8142  20289   1763   4299      0.822   0.654      0.82\n",
       "7         0.7   6902  21009   1043   5539      0.869   0.555      0.81\n",
       "8         0.8   5814  21524    528   6627      0.917   0.467      0.79\n",
       "9         0.9   4878  21865    187   7563      0.963   0.392      0.78\n",
       "10        1.0     41  22052      0  12400      1.000   0.003      0.64"
      ]
     },
     "execution_count": 184,
     "metadata": {},
     "output_type": "execute_result"
    }
   ],
   "source": [
    "perf_measures(mlp,X_test,y_test)"
   ]
  },
  {
   "cell_type": "markdown",
   "id": "e1150d29",
   "metadata": {},
   "source": [
    "> **Summary of Performance Metrics**\n",
    "\n",
    "> All these models seems to perform better at higher threshold levels, interms of fewer number of False Positives and higher accuracy. So, Let's compare the performance metrics of these models at following threshold levels:\n",
    "\n",
    "> Threshold Level = 0.6\n",
    "\n",
    "| Model          \t| False Positives | False Negatives | Precision | Accuracy |\n",
    "|------------------\t|-----------------|-----------------|-----------|----------|\n",
    "| KNN Model         | 1291            | 5223            | 0.84      | 81 %     |\n",
    "| Logistic Model    | 784             | 6949            | 0.87      | 78 %     |\n",
    "| Decision Tree Classifier | 2032     | 4023            | 0.80      | 82 %     | \n",
    "| Random Forest Classifier | 1009     | 5141            | 0.87      | 82 %     |\n",
    "| MLP Classifier    | 1763            | 4299            | 0.82      | 82 %     |\n",
    "\n",
    "> Threshold Level = 0.7\n",
    "\n",
    "| Model          \t| False Positives | False Negatives | Precision | Accuracy |\n",
    "|------------------\t|-----------------|-----------------|-----------|----------|\n",
    "| KNN Model         | 589             | 6387            | 0.91      | 80 %     |\n",
    "| Logistic Model    | 264             | 7796            | 0.94      | 77 %     |\n",
    "| Decision Tree Classifier | 51       | 8120            | 0.98      | 76 %     | \n",
    "| Random Forest Classifier | 21       | 8056            | 0.99      | 77 %     |\n",
    "| MLP Classifier    | 1043            | 5539            | 0.86      | 81 %     |\n",
    "\n",
    "\n",
    "> Threshold Level = 0.8\n",
    "\n",
    "| Model          \t| False Positives | False Negatives | Precision | Accuracy |\n",
    "|------------------\t|-----------------|-----------------|-----------|----------|\n",
    "| KNN Model         | 213          | 7233        | 0.96    | 78 %  |\n",
    "| Logistic Model    | 67           | 8377        | 0.98    | 76 %  |\n",
    "| Decision Tree Classifier | 31    | 8162        | 0.99    | 76 % | \n",
    "| Random Forest Classifier | 10    | 8250        | 0.99    | 76 % |\n",
    "| MLP Classifier    | 528          | 6627        | 0.91    | 76 %  |"
   ]
  },
  {
   "cell_type": "markdown",
   "id": "ecc1db16",
   "metadata": {},
   "source": [
    "> **Final Observation - Pick a Winning Model**\n",
    "\n",
    "> **Threshold Level = 0.6** <br>\n",
    "> Logistic model has least no of False Positives with highest Precision <br>\n",
    "> Random Forest has the highest accuracy and second least number of False Positives <br>\n",
    "> **Winning Model:** Random Forest is the winning model at this threshold level with highest accuarcy and comparitevely fewer False Positives <br>\n",
    "\n",
    "> **Threshold Level = 0.7** <br>\n",
    "> Random Forest has least no of False Positives with highest Precision <br>\n",
    "> MLP classifiers has better accuracy than Random Forest, but comparitively more number of False Positives <br>\n",
    "> **Winning Model:** Random Forest is the winning model at this threshold level with reasonable accuarcy and comparitevely fewer False Positives <br>\n",
    "\n",
    "> **Threshold Level = 0.8** <br>\n",
    "> Random Forest and Decision Tree has least no of False Positives with highest Precision <br>\n",
    "> MLP classifier has better accuracy than Random Forest, but comparitively more number of False Positives <br>\n",
    "> **Winning Model:** Random Forest is the winning model at this threshold level with reasonable accuarcy and fewer False Positives <br>"
   ]
  },
  {
   "cell_type": "markdown",
   "id": "a8d2e719",
   "metadata": {},
   "source": [
    "# General Inference and Recommendations"
   ]
  },
  {
   "cell_type": "markdown",
   "id": "509a11d4",
   "metadata": {},
   "source": [
    "> **General Inference**\n",
    "\n",
    "\n",
    "> FP: Booking NOT cancelled, but model predicted cancelled. <br>\n",
    "> FN: Booking cancelled, but model predicted NOT cancelled. <br>\n",
    "\n",
    ">- **Booking cancelled:** 1    <br> \n",
    ">- **Booking Not Cancelled:** 0\n",
    "\n",
    "> As we are builing this model for Hotels, False Positives in the prediction mode are the costliest mistakes, i.e, when the booking is cancelled, but the model predicts otherwise. Hence, we need to look for the Precision values in the performace measures.\n",
    "\n",
    "> **Potential Issues with False Positives (FP):**\n",
    "> 1. Increased customer dissatisfaction due to booking precancellations\n",
    "> 2. Hefty payback in form of reimbursement\n",
    "> 3. Loss of trust and reputation among the customers resulting in slacking of the business\n",
    "> 4. Potential Lawsuits from travel operators and agents\n",
    "\n",
    "> **Potential Issues with False Negatives (FN):**\n",
    "> 1. Reduced profits due to low occupancy\n",
    "> 2. Increased Maintenance and labor costs\n",
    "> 3. Loss of net revenue due to lack of contingency\n"
   ]
  },
  {
   "cell_type": "markdown",
   "id": "3eed9c29",
   "metadata": {},
   "source": [
    "> **Recommendations** <br>\n",
    "> 1. This models helps in predicting the booking cancellation based on the seasonal demand.<br>\n",
    "> 2. This model can help the hotel management to plan and manage their labor and maintenance cost during the off season when the booking cancellation are expected to be more. <br>\n",
    "> 3. This model helps setting up a dynamic pricing model based on demand and possibility of cancellations\n",
    "> 4. This model helps in building the customer satisfaction, there by increasing the net revenue in long run.\n",
    "> 5. This model can also help in setting up a standard to allow overbookings by prediciting the possibilities of cancellation.\n",
    "\n",
    "> **Concern with the data:** <br> \n",
    "> 1. Providing the price of the hotel/resort would have added more value to this model. Customers tend to cancel their current booking when then found alternatives with lesser price. <br>"
   ]
  }
 ],
 "metadata": {
  "kernelspec": {
   "display_name": "Python 3 (ipykernel)",
   "language": "python",
   "name": "python3"
  },
  "language_info": {
   "codemirror_mode": {
    "name": "ipython",
    "version": 3
   },
   "file_extension": ".py",
   "mimetype": "text/x-python",
   "name": "python",
   "nbconvert_exporter": "python",
   "pygments_lexer": "ipython3",
   "version": "3.9.12"
  }
 },
 "nbformat": 4,
 "nbformat_minor": 5
}
